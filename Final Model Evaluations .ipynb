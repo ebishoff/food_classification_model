{
 "cells": [
  {
   "cell_type": "markdown",
   "metadata": {},
   "source": [
    "# Final Model Evaluations "
   ]
  },
  {
   "cell_type": "code",
   "execution_count": 1,
   "metadata": {},
   "outputs": [
    {
     "name": "stderr",
     "output_type": "stream",
     "text": [
      "Using TensorFlow backend.\n"
     ]
    }
   ],
   "source": [
    "import os\n",
    "import numpy as np\n",
    "import pandas as pd\n",
    "import matplotlib.pyplot as plt\n",
    "import tensorflow as tf\n",
    "from sklearn.metrics import classification_report, confusion_matrix,accuracy_score\n",
    "from keras.models import model_from_json\n",
    "import pickle\n",
    "from keras.preprocessing.image import ImageDataGenerator\n",
    "from keras.optimizers import Adam\n",
    "import itertools"
   ]
  },
  {
   "cell_type": "code",
   "execution_count": 2,
   "metadata": {},
   "outputs": [],
   "source": [
    "#load json and create model\n",
    "def load_model(name_json,name_weights):\n",
    "    json_file=open(name_json,'r')\n",
    "    loaded_model_json=json_file.read()\n",
    "    json_file.close()\n",
    "    loaded_model=model_from_json(loaded_model_json)\n",
    "    #load weights into new model\n",
    "    loaded_model.load_weights(name_weights)\n",
    "    print('Loaded model from disk')\n",
    "    return loaded_model"
   ]
  },
  {
   "cell_type": "markdown",
   "metadata": {},
   "source": [
    "## Create Test Generators for the different Models "
   ]
  },
  {
   "cell_type": "code",
   "execution_count": 3,
   "metadata": {},
   "outputs": [],
   "source": [
    "datagen = ImageDataGenerator(\n",
    "rescale = 1./255,\n",
    "horizontal_flip = False,\n",
    "fill_mode = \"nearest\",\n",
    "zoom_range = 0,\n",
    "width_shift_range = 0,\n",
    "height_shift_range=0,\n",
    "rotation_range=0)"
   ]
  },
  {
   "cell_type": "code",
   "execution_count": 41,
   "metadata": {},
   "outputs": [
    {
     "name": "stdout",
     "output_type": "stream",
     "text": [
      "Found 10100 images belonging to 101 classes.\n"
     ]
    }
   ],
   "source": [
    "test_image_dir='output/test'\n",
    "image_size=(224,224)\n",
    "batch_size=128\n",
    "\n",
    "vgg_test_generator = datagen.flow_from_directory(\n",
    "test_image_dir,\n",
    "target_size = (image_size[0], image_size[1]),\n",
    "batch_size = batch_size, \n",
    "class_mode = \"categorical\",\n",
    "shuffle=False)"
   ]
  },
  {
   "cell_type": "code",
   "execution_count": 8,
   "metadata": {},
   "outputs": [
    {
     "name": "stdout",
     "output_type": "stream",
     "text": [
      "Found 10100 images belonging to 101 classes.\n"
     ]
    }
   ],
   "source": [
    "test_image_dir='output/test'\n",
    "image_size=(331,331)\n",
    "batch_size=8\n",
    "\n",
    "nas_test_generator = datagen.flow_from_directory(\n",
    "test_image_dir,\n",
    "target_size = (image_size[0], image_size[1]),\n",
    "batch_size = batch_size, \n",
    "class_mode = \"categorical\",\n",
    "shuffle=False)"
   ]
  },
  {
   "cell_type": "code",
   "execution_count": 12,
   "metadata": {},
   "outputs": [
    {
     "name": "stdout",
     "output_type": "stream",
     "text": [
      "Found 10100 images belonging to 101 classes.\n"
     ]
    }
   ],
   "source": [
    "test_image_dir='output/test'\n",
    "image_size=(229,229)\n",
    "batch_size=64\n",
    "\n",
    "incRes_test_generator = datagen.flow_from_directory(\n",
    "test_image_dir,\n",
    "target_size = (image_size[0], image_size[1]),\n",
    "batch_size = batch_size, \n",
    "class_mode = \"categorical\",\n",
    "shuffle=False)"
   ]
  },
  {
   "cell_type": "code",
   "execution_count": 5,
   "metadata": {},
   "outputs": [],
   "source": [
    "def load_specfic_model(name):\n",
    "    if name=='nas':\n",
    "        nas_final=load_model('nas_net_3.json','nas_net_3_weights.h5')\n",
    "        return nas_final\n",
    "    elif name=='vgg':\n",
    "        vgg_final=load_model('vgg_models/vgg_model_3.json','vgg_models/vgg_model_3_weights.h5')\n",
    "        return vgg_final\n",
    "    elif name=='incRes':\n",
    "        incRes_final=load_model('inceptResNetV2_model_2_1.json','inceptResNetV2_model_2_1_weights.h5')\n",
    "        return incRes_final"
   ]
  },
  {
   "cell_type": "markdown",
   "metadata": {},
   "source": [
    "## VGG final"
   ]
  },
  {
   "cell_type": "code",
   "execution_count": 8,
   "metadata": {},
   "outputs": [],
   "source": [
    "vgg_final=load_specfic_model('vgg')"
   ]
  },
  {
   "cell_type": "code",
   "execution_count": 10,
   "metadata": {},
   "outputs": [
    {
     "data": {
      "text/plain": [
       "[1.2518320633633302, 0.7097029705330877]"
      ]
     },
     "execution_count": 10,
     "metadata": {},
     "output_type": "execute_result"
    }
   ],
   "source": [
    "vgg_final.compile(optimizer=Adam(lr=.0001),loss='categorical_crossentropy',metrics=['accuracy'])\n",
    "vgg_scores=vgg_final.evaluate_generator(vgg_test_generator,steps=len(vgg_test_generator))\n",
    "vgg_scores"
   ]
  },
  {
   "cell_type": "code",
   "execution_count": 42,
   "metadata": {},
   "outputs": [
    {
     "data": {
      "text/plain": [
       "array([  0,   0,   0, ...,  39, 100, 100])"
      ]
     },
     "execution_count": 42,
     "metadata": {},
     "output_type": "execute_result"
    }
   ],
   "source": [
    "vgg_predicted=vgg_final.predict_generator(vgg_test_generator,steps=len(vgg_test_generator))\n",
    "vgg_predicted2=np.argmax(vgg_predicted,axis=1)\n",
    "vgg_predicted2"
   ]
  },
  {
   "cell_type": "code",
   "execution_count": 37,
   "metadata": {},
   "outputs": [],
   "source": [
    "num_files=len(vgg_test_generator.filenames)\n",
    "num_batches=len(vgg_test_generator)\n",
    "\n",
    "vgg_test_labels=[]\n",
    "\n",
    "for i in range(0,int(num_batches)):\n",
    "    vgg_test_labels.extend(np.array(vgg_test_generator[i][1]))"
   ]
  },
  {
   "cell_type": "code",
   "execution_count": 38,
   "metadata": {},
   "outputs": [
    {
     "data": {
      "text/plain": [
       "array([  0,   0,   0, ..., 100, 100, 100])"
      ]
     },
     "execution_count": 38,
     "metadata": {},
     "output_type": "execute_result"
    }
   ],
   "source": [
    "vgg_test_labels2=np.argmax(vgg_test_labels,axis=1)\n",
    "vgg_test_labels2"
   ]
  },
  {
   "cell_type": "markdown",
   "metadata": {},
   "source": [
    "## Calculating accuracy score on VGG test set"
   ]
  },
  {
   "cell_type": "code",
   "execution_count": 48,
   "metadata": {},
   "outputs": [
    {
     "data": {
      "text/plain": [
       "0.7097029702970297"
      ]
     },
     "execution_count": 48,
     "metadata": {},
     "output_type": "execute_result"
    }
   ],
   "source": [
    "accuracy = (vgg_predicted2 == vgg_test_labels2)\n",
    "accuracy.sum()/10100"
   ]
  },
  {
   "cell_type": "markdown",
   "metadata": {},
   "source": [
    "## Plot Confusion Matrix and Classification Report"
   ]
  },
  {
   "cell_type": "code",
   "execution_count": 58,
   "metadata": {},
   "outputs": [],
   "source": [
    "#load label dictionary\n",
    "pkl_file=open('label_dictionary.pkl','rb')\n",
    "decoder=pickle.load(pkl_file)\n",
    "pkl_file.close()"
   ]
  },
  {
   "cell_type": "code",
   "execution_count": 51,
   "metadata": {},
   "outputs": [],
   "source": [
    "#load label dictionary \n",
    "label_map=(vgg_test_generator.class_indices)"
   ]
  },
  {
   "cell_type": "code",
   "execution_count": 116,
   "metadata": {},
   "outputs": [],
   "source": [
    "# # Compute confusion matrix\n",
    "cnf_matrix = confusion_matrix(vgg_test_labels2, vgg_predicted2);"
   ]
  },
  {
   "cell_type": "code",
   "execution_count": 101,
   "metadata": {},
   "outputs": [
    {
     "data": {
      "image/png": "[encoded data removed]",
      "text/plain": [
       "<Figure size 432x288 with 1 Axes>"
      ]
     },
     "metadata": {
      "needs_background": "light"
     },
     "output_type": "display_data"
    }
   ],
   "source": [
    "f=plt.figure()\n",
    "plt.pcolor(cnf_matrix,cmap='Spectral')\n",
    "plt.gca().invert_yaxis()\n",
    "plt.title('Confusion Matrix')\n",
    "plt.savefig('confusion_matrix_vgg.png')"
   ]
  },
  {
   "cell_type": "code",
   "execution_count": 108,
   "metadata": {},
   "outputs": [
    {
     "name": "stdout",
     "output_type": "stream",
     "text": [
      "              precision    recall  f1-score   support\n",
      "\n",
      "           0       0.46      0.42      0.44       100\n",
      "           1       0.66      0.71      0.69       100\n",
      "           2       0.84      0.71      0.77       100\n",
      "           3       0.73      0.74      0.74       100\n",
      "           4       0.85      0.61      0.71       100\n",
      "           5       0.69      0.57      0.62       100\n",
      "           6       0.64      0.91      0.75       100\n",
      "           7       0.78      0.76      0.77       100\n",
      "           8       0.49      0.63      0.55       100\n",
      "           9       0.69      0.58      0.63       100\n",
      "          10       0.77      0.61      0.68       100\n",
      "          11       0.72      0.77      0.74       100\n",
      "          12       0.86      0.65      0.74       100\n",
      "          13       0.79      0.62      0.70       100\n",
      "          14       0.82      0.51      0.63       100\n",
      "          15       0.65      0.50      0.56       100\n",
      "          16       0.72      0.63      0.67       100\n",
      "          17       0.51      0.71      0.59       100\n",
      "          18       0.60      0.58      0.59       100\n",
      "          19       0.67      0.76      0.71       100\n",
      "          20       0.83      0.71      0.76       100\n",
      "          21       0.48      0.77      0.59       100\n",
      "          22       0.46      0.57      0.51       100\n",
      "          23       0.78      0.76      0.77       100\n",
      "          24       0.67      0.91      0.77       100\n",
      "          25       0.78      0.79      0.79       100\n",
      "          26       0.83      0.58      0.68       100\n",
      "          27       0.77      0.90      0.83       100\n",
      "          28       0.76      0.82      0.79       100\n",
      "          29       0.71      0.85      0.77       100\n",
      "          30       0.90      0.72      0.80       100\n",
      "          31       0.67      0.62      0.64       100\n",
      "          32       0.84      0.81      0.82       100\n",
      "          33       0.97      0.96      0.96       100\n",
      "          34       0.85      0.78      0.81       100\n",
      "          35       0.74      0.82      0.78       100\n",
      "          36       0.74      0.49      0.59       100\n",
      "          37       0.46      0.55      0.50       100\n",
      "          38       0.71      0.81      0.76       100\n",
      "          39       0.48      0.48      0.48       100\n",
      "          40       0.94      0.82      0.88       100\n",
      "          41       0.75      0.86      0.80       100\n",
      "          42       0.62      0.74      0.68       100\n",
      "          43       0.83      0.65      0.73       100\n",
      "          44       0.83      0.68      0.75       100\n",
      "          45       0.71      0.83      0.76       100\n",
      "          46       0.65      0.72      0.69       100\n",
      "          47       0.56      0.60      0.58       100\n",
      "          48       0.86      0.59      0.70       100\n",
      "          49       0.64      0.61      0.62       100\n",
      "          50       0.56      0.60      0.58       100\n",
      "          51       0.72      0.87      0.79       100\n",
      "          52       0.84      0.71      0.77       100\n",
      "          53       0.72      0.69      0.70       100\n",
      "          54       0.89      0.92      0.91       100\n",
      "          55       0.78      0.70      0.74       100\n",
      "          56       0.66      0.58      0.62       100\n",
      "          57       0.77      0.57      0.66       100\n",
      "          58       0.55      0.61      0.58       100\n",
      "          59       0.60      0.49      0.54       100\n",
      "          60       0.80      0.78      0.79       100\n",
      "          61       0.72      0.83      0.77       100\n",
      "          62       0.83      0.60      0.70       100\n",
      "          63       0.85      0.92      0.88       100\n",
      "          64       0.87      0.93      0.90       100\n",
      "          65       0.74      0.83      0.78       100\n",
      "          66       0.75      0.66      0.70       100\n",
      "          67       0.75      0.63      0.68       100\n",
      "          68       0.83      0.85      0.84       100\n",
      "          69       0.86      0.83      0.85       100\n",
      "          70       0.77      0.83      0.80       100\n",
      "          71       0.82      0.68      0.74       100\n",
      "          72       0.69      0.75      0.72       100\n",
      "          73       0.52      0.56      0.54       100\n",
      "          74       0.61      0.78      0.68       100\n",
      "          75       0.81      0.93      0.87       100\n",
      "          76       0.74      0.81      0.77       100\n",
      "          77       0.48      0.41      0.44       100\n",
      "          78       0.79      0.81      0.80       100\n",
      "          79       0.61      0.77      0.68       100\n",
      "          80       0.65      0.80      0.72       100\n",
      "          81       0.79      0.77      0.78       100\n",
      "          82       0.56      0.54      0.55       100\n",
      "          83       0.69      0.87      0.77       100\n",
      "          84       0.84      0.62      0.71       100\n",
      "          85       0.60      0.82      0.69       100\n",
      "          86       0.81      0.87      0.84       100\n",
      "          87       0.58      0.54      0.56       100\n",
      "          88       0.72      0.94      0.81       100\n",
      "          89       0.62      0.64      0.63       100\n",
      "          90       0.92      0.88      0.90       100\n",
      "          91       0.94      0.74      0.83       100\n",
      "          92       0.61      0.78      0.69       100\n",
      "          93       0.53      0.24      0.33       100\n",
      "          94       0.77      0.68      0.72       100\n",
      "          95       0.90      0.61      0.73       100\n",
      "          96       0.72      0.68      0.70       100\n",
      "          97       0.70      0.92      0.79       100\n",
      "          98       0.71      0.74      0.73       100\n",
      "          99       0.62      0.50      0.56       100\n",
      "         100       0.73      0.79      0.76       100\n",
      "\n",
      "    accuracy                           0.71     10100\n",
      "   macro avg       0.72      0.71      0.71     10100\n",
      "weighted avg       0.72      0.71      0.71     10100\n",
      "\n"
     ]
    }
   ],
   "source": [
    "print(classification_report(vgg_test_labels2, vgg_predicted2))"
   ]
  },
  {
   "cell_type": "markdown",
   "metadata": {},
   "source": [
    "## Top 3 and Lowest 3 accuracy scores and their respective classes for VGG16"
   ]
  },
  {
   "cell_type": "code",
   "execution_count": 22,
   "metadata": {},
   "outputs": [
    {
     "name": "stdout",
     "output_type": "stream",
     "text": [
      "VGG16: The 3 lowest categories with precision accuracy are  apple_pie  with 46%,  chocolate_mousse  with 46%, and filet_mignon  with 46%.\n"
     ]
    }
   ],
   "source": [
    "print('VGG16: The 3 lowest categories with precision accuracy are ',decoder[0], ' with 46%, ', \n",
    "      decoder[22], ' with 46%, and', decoder[37], ' with 46%.')"
   ]
  },
  {
   "cell_type": "code",
   "execution_count": 24,
   "metadata": {},
   "outputs": [
    {
     "name": "stdout",
     "output_type": "stream",
     "text": [
      "VGG16: The 3 highest categories with precision accuracy are  edamame  with 97%,  french_fries  with 94%, and spaghetti_carbonara  with 94%.\n"
     ]
    }
   ],
   "source": [
    "print('VGG16: The 3 highest categories with precision accuracy are ',decoder[33], ' with 97%, ', \n",
    "      decoder[40], ' with 94%, and', decoder[91], ' with 94%.')"
   ]
  },
  {
   "cell_type": "markdown",
   "metadata": {},
   "source": [
    "# InceptionResNetV2"
   ]
  },
  {
   "cell_type": "code",
   "execution_count": 6,
   "metadata": {},
   "outputs": [
    {
     "name": "stdout",
     "output_type": "stream",
     "text": [
      "WARNING:tensorflow:From /usr/local/lib/python3.7/dist-packages/tensorflow/python/framework/op_def_library.py:263: colocate_with (from tensorflow.python.framework.ops) is deprecated and will be removed in a future version.\n",
      "Instructions for updating:\n",
      "Colocations handled automatically by placer.\n",
      "WARNING:tensorflow:From /usr/local/lib/python3.7/dist-packages/keras/backend/tensorflow_backend.py:3445: calling dropout (from tensorflow.python.ops.nn_ops) with keep_prob is deprecated and will be removed in a future version.\n",
      "Instructions for updating:\n",
      "Please use `rate` instead of `keep_prob`. Rate should be set to `rate = 1 - keep_prob`.\n",
      "Loaded model from disk\n"
     ]
    }
   ],
   "source": [
    "incRes_final=load_specfic_model('incRes')"
   ]
  },
  {
   "cell_type": "code",
   "execution_count": 7,
   "metadata": {},
   "outputs": [
    {
     "data": {
      "text/plain": [
       "[1.1066450539673909, 0.763663366407451]"
      ]
     },
     "execution_count": 7,
     "metadata": {},
     "output_type": "execute_result"
    }
   ],
   "source": [
    "incRes_final.compile(optimizer=Adam(lr=.0001),loss='categorical_crossentropy',metrics=['accuracy'])\n",
    "incRes_scores=incRes_final.evaluate_generator(incRes_test_generator,steps=len(incRes_test_generator))\n",
    "incRes_scores"
   ]
  },
  {
   "cell_type": "code",
   "execution_count": 13,
   "metadata": {},
   "outputs": [
    {
     "data": {
      "text/plain": [
       "array([  0,   0,   0, ...,  98,  57, 100])"
      ]
     },
     "execution_count": 13,
     "metadata": {},
     "output_type": "execute_result"
    }
   ],
   "source": [
    "incRes_predicted=incRes_final.predict_generator(incRes_test_generator,steps=len(incRes_test_generator))\n",
    "incRes_predicted2=np.argmax(incRes_predicted,axis=1)\n",
    "incRes_predicted2"
   ]
  },
  {
   "cell_type": "code",
   "execution_count": 9,
   "metadata": {},
   "outputs": [],
   "source": [
    "num_files=len(incRes_test_generator.filenames)\n",
    "num_batches=len(incRes_test_generator)\n",
    "\n",
    "incRes_test_labels=[]\n",
    "\n",
    "for i in range(0,int(num_batches)):\n",
    "    incRes_test_labels.extend(np.array(incRes_test_generator[i][1]))"
   ]
  },
  {
   "cell_type": "code",
   "execution_count": 10,
   "metadata": {},
   "outputs": [
    {
     "data": {
      "text/plain": [
       "array([  0,   0,   0, ..., 100, 100, 100])"
      ]
     },
     "execution_count": 10,
     "metadata": {},
     "output_type": "execute_result"
    }
   ],
   "source": [
    "incRes_test_labels2=np.argmax(incRes_test_labels,axis=1)\n",
    "incRes_test_labels2"
   ]
  },
  {
   "cell_type": "markdown",
   "metadata": {},
   "source": [
    "## Accuracy Score on Test Set for InceptionResNetV2"
   ]
  },
  {
   "cell_type": "code",
   "execution_count": 14,
   "metadata": {},
   "outputs": [
    {
     "data": {
      "text/plain": [
       "0.7636633663366337"
      ]
     },
     "execution_count": 14,
     "metadata": {},
     "output_type": "execute_result"
    }
   ],
   "source": [
    "accuracy = (incRes_predicted2 == incRes_test_labels2)\n",
    "accuracy.sum()/10100"
   ]
  },
  {
   "cell_type": "markdown",
   "metadata": {},
   "source": [
    "## Plot Confusion Matrix and Classification Report"
   ]
  },
  {
   "cell_type": "code",
   "execution_count": 17,
   "metadata": {},
   "outputs": [
    {
     "data": {
      "image/png": "[encoded data removed]",
      "text/plain": [
       "<Figure size 432x288 with 1 Axes>"
      ]
     },
     "metadata": {
      "needs_background": "light"
     },
     "output_type": "display_data"
    }
   ],
   "source": [
    "# Compute confusion matrix\n",
    "cnf_matrix = confusion_matrix(incRes_test_labels2, incRes_predicted2);\n",
    "f=plt.figure()\n",
    "plt.pcolor(cnf_matrix,cmap='Spectral')\n",
    "plt.gca().invert_yaxis()\n",
    "plt.title('Confusion Matrix')\n",
    "plt.xlabel('Predicted Label')\n",
    "plt.ylabel('True Label')\n",
    "plt.savefig('confusion_matrix_incRes.png')"
   ]
  },
  {
   "cell_type": "code",
   "execution_count": 18,
   "metadata": {},
   "outputs": [
    {
     "name": "stdout",
     "output_type": "stream",
     "text": [
      "              precision    recall  f1-score   support\n",
      "\n",
      "           0       0.61      0.44      0.51       100\n",
      "           1       0.79      0.84      0.82       100\n",
      "           2       0.74      0.82      0.78       100\n",
      "           3       0.62      0.87      0.72       100\n",
      "           4       0.75      0.65      0.70       100\n",
      "           5       0.69      0.58      0.63       100\n",
      "           6       0.84      0.89      0.86       100\n",
      "           7       0.84      0.81      0.83       100\n",
      "           8       0.55      0.56      0.55       100\n",
      "           9       0.68      0.73      0.71       100\n",
      "          10       0.73      0.68      0.70       100\n",
      "          11       0.76      0.78      0.77       100\n",
      "          12       0.89      0.87      0.88       100\n",
      "          13       0.85      0.57      0.68       100\n",
      "          14       0.82      0.65      0.73       100\n",
      "          15       0.70      0.57      0.63       100\n",
      "          16       0.86      0.72      0.78       100\n",
      "          17       0.77      0.68      0.72       100\n",
      "          18       0.67      0.62      0.65       100\n",
      "          19       0.72      0.84      0.78       100\n",
      "          20       0.93      0.68      0.79       100\n",
      "          21       0.64      0.75      0.69       100\n",
      "          22       0.55      0.65      0.59       100\n",
      "          23       0.92      0.87      0.89       100\n",
      "          24       0.85      0.87      0.86       100\n",
      "          25       0.75      0.87      0.81       100\n",
      "          26       0.76      0.61      0.68       100\n",
      "          27       0.87      0.89      0.88       100\n",
      "          28       0.82      0.80      0.81       100\n",
      "          29       0.66      0.95      0.78       100\n",
      "          30       0.88      0.94      0.91       100\n",
      "          31       0.77      0.81      0.79       100\n",
      "          32       0.96      0.85      0.90       100\n",
      "          33       0.98      0.95      0.96       100\n",
      "          34       0.94      0.85      0.89       100\n",
      "          35       0.93      0.74      0.82       100\n",
      "          36       0.77      0.65      0.71       100\n",
      "          37       0.72      0.47      0.57       100\n",
      "          38       0.69      0.92      0.79       100\n",
      "          39       0.61      0.59      0.60       100\n",
      "          40       0.91      0.89      0.90       100\n",
      "          41       0.83      0.90      0.87       100\n",
      "          42       0.72      0.80      0.76       100\n",
      "          43       0.86      0.75      0.80       100\n",
      "          44       0.79      0.76      0.78       100\n",
      "          45       0.88      0.92      0.90       100\n",
      "          46       0.88      0.74      0.80       100\n",
      "          47       0.77      0.58      0.66       100\n",
      "          48       0.67      0.81      0.73       100\n",
      "          49       0.68      0.76      0.72       100\n",
      "          50       0.87      0.52      0.65       100\n",
      "          51       0.86      0.78      0.82       100\n",
      "          52       0.80      0.88      0.84       100\n",
      "          53       0.79      0.67      0.72       100\n",
      "          54       0.94      0.92      0.93       100\n",
      "          55       0.81      0.84      0.82       100\n",
      "          56       0.70      0.62      0.66       100\n",
      "          57       0.70      0.78      0.74       100\n",
      "          58       0.61      0.66      0.63       100\n",
      "          59       0.85      0.47      0.61       100\n",
      "          60       0.89      0.83      0.86       100\n",
      "          61       0.93      0.76      0.84       100\n",
      "          62       0.79      0.66      0.72       100\n",
      "          63       0.94      0.94      0.94       100\n",
      "          64       0.95      0.91      0.93       100\n",
      "          65       0.91      0.84      0.87       100\n",
      "          66       0.84      0.67      0.74       100\n",
      "          67       0.78      0.71      0.74       100\n",
      "          68       0.82      0.82      0.82       100\n",
      "          69       0.91      0.87      0.89       100\n",
      "          70       0.80      0.84      0.82       100\n",
      "          71       0.87      0.73      0.79       100\n",
      "          72       0.84      0.72      0.77       100\n",
      "          73       0.58      0.73      0.65       100\n",
      "          74       0.63      0.91      0.75       100\n",
      "          75       0.73      0.96      0.83       100\n",
      "          76       0.86      0.84      0.85       100\n",
      "          77       0.48      0.66      0.56       100\n",
      "          78       0.89      0.83      0.86       100\n",
      "          79       0.51      0.87      0.64       100\n",
      "          80       0.64      0.85      0.73       100\n",
      "          81       0.69      0.87      0.77       100\n",
      "          82       0.84      0.49      0.62       100\n",
      "          83       0.76      0.81      0.78       100\n",
      "          84       0.74      0.69      0.72       100\n",
      "          85       0.87      0.84      0.85       100\n",
      "          86       0.76      0.96      0.85       100\n",
      "          87       0.48      0.78      0.60       100\n",
      "          88       0.67      0.96      0.79       100\n",
      "          89       0.90      0.57      0.70       100\n",
      "          90       0.90      0.90      0.90       100\n",
      "          91       0.86      0.87      0.87       100\n",
      "          92       0.82      0.83      0.83       100\n",
      "          93       0.52      0.32      0.40       100\n",
      "          94       0.77      0.74      0.76       100\n",
      "          95       0.74      0.75      0.75       100\n",
      "          96       0.79      0.73      0.76       100\n",
      "          97       0.86      0.89      0.88       100\n",
      "          98       0.58      0.81      0.68       100\n",
      "          99       0.63      0.65      0.64       100\n",
      "         100       0.87      0.79      0.83       100\n",
      "\n",
      "    accuracy                           0.76     10100\n",
      "   macro avg       0.78      0.76      0.76     10100\n",
      "weighted avg       0.78      0.76      0.76     10100\n",
      "\n"
     ]
    }
   ],
   "source": [
    "print(classification_report(incRes_test_labels2, incRes_predicted2))"
   ]
  },
  {
   "cell_type": "code",
   "execution_count": 19,
   "metadata": {},
   "outputs": [],
   "source": [
    "#load label dictionary\n",
    "pkl_file=open('label_dictionary.pkl','rb')\n",
    "decoder=pickle.load(pkl_file)\n",
    "pkl_file.close()"
   ]
  },
  {
   "cell_type": "markdown",
   "metadata": {},
   "source": [
    "## Top 3 and Lowest 3 accuracy scores and their respective classes for InceptionResNetV2"
   ]
  },
  {
   "cell_type": "code",
   "execution_count": 20,
   "metadata": {},
   "outputs": [
    {
     "name": "stdout",
     "output_type": "stream",
     "text": [
      "The 3 lowest categories with precision accuracy are  pork_chop  with 48%,  scallops  with 48%, and prime_rib  with 51%.\n"
     ]
    }
   ],
   "source": [
    "print('The 3 lowest categories with precision accuracy are ',decoder[77], ' with 48%, ', \n",
    "      decoder[87], ' with 48%, and', decoder[79], ' with 51%.')"
   ]
  },
  {
   "cell_type": "code",
   "execution_count": 21,
   "metadata": {},
   "outputs": [
    {
     "name": "stdout",
     "output_type": "stream",
     "text": [
      "The 3 highest categories with precision accuracy are  edamame  with 98%,  dumplings  with 96%, and miso_soup  with 95%.\n"
     ]
    }
   ],
   "source": [
    "print('The 3 highest categories with precision accuracy are ',decoder[33], ' with 98%, ', \n",
    "      decoder[32], ' with 96%, and', decoder[64], ' with 95%.')"
   ]
  },
  {
   "cell_type": "markdown",
   "metadata": {},
   "source": [
    "# NASNet"
   ]
  },
  {
   "cell_type": "code",
   "execution_count": 6,
   "metadata": {},
   "outputs": [
    {
     "name": "stdout",
     "output_type": "stream",
     "text": [
      "WARNING:tensorflow:From /usr/local/lib/python3.7/dist-packages/tensorflow/python/framework/op_def_library.py:263: colocate_with (from tensorflow.python.framework.ops) is deprecated and will be removed in a future version.\n",
      "Instructions for updating:\n",
      "Colocations handled automatically by placer.\n",
      "WARNING:tensorflow:From /usr/local/lib/python3.7/dist-packages/keras/backend/tensorflow_backend.py:3445: calling dropout (from tensorflow.python.ops.nn_ops) with keep_prob is deprecated and will be removed in a future version.\n",
      "Instructions for updating:\n",
      "Please use `rate` instead of `keep_prob`. Rate should be set to `rate = 1 - keep_prob`.\n",
      "Loaded model from disk\n"
     ]
    }
   ],
   "source": [
    "nas_final=load_specfic_model('nas')"
   ]
  },
  {
   "cell_type": "code",
   "execution_count": 7,
   "metadata": {},
   "outputs": [
    {
     "data": {
      "text/plain": [
       "[1.0421702295763604, 0.7906930693069307]"
      ]
     },
     "execution_count": 7,
     "metadata": {},
     "output_type": "execute_result"
    }
   ],
   "source": [
    "nas_final.compile(optimizer=Adam(lr=.0001),loss='categorical_crossentropy',metrics=['accuracy'])\n",
    "nas_scores=nas_final.evaluate_generator(nas_test_generator,steps=len(nas_test_generator))\n",
    "nas_scores"
   ]
  },
  {
   "cell_type": "code",
   "execution_count": 9,
   "metadata": {},
   "outputs": [
    {
     "data": {
      "text/plain": [
       "array([  0,  62,   0, ...,  13, 100, 100])"
      ]
     },
     "execution_count": 9,
     "metadata": {},
     "output_type": "execute_result"
    }
   ],
   "source": [
    "nas_predicted=nas_final.predict_generator(nas_test_generator,steps=len(nas_test_generator))\n",
    "nas_predicted2=np.argmax(nas_predicted,axis=1)\n",
    "nas_predicted2"
   ]
  },
  {
   "cell_type": "code",
   "execution_count": 10,
   "metadata": {},
   "outputs": [],
   "source": [
    "num_files=len(nas_test_generator.filenames)\n",
    "num_batches=len(nas_test_generator)\n",
    "\n",
    "nas_test_labels=[]\n",
    "\n",
    "for i in range(0,int(num_batches)):\n",
    "    nas_test_labels.extend(np.array(nas_test_generator[i][1]))"
   ]
  },
  {
   "cell_type": "code",
   "execution_count": 11,
   "metadata": {},
   "outputs": [
    {
     "data": {
      "text/plain": [
       "array([  0,   0,   0, ..., 100, 100, 100])"
      ]
     },
     "execution_count": 11,
     "metadata": {},
     "output_type": "execute_result"
    }
   ],
   "source": [
    "nas_test_labels2=np.argmax(nas_test_labels,axis=1)\n",
    "nas_test_labels2"
   ]
  },
  {
   "cell_type": "markdown",
   "metadata": {},
   "source": [
    "## Accuracy score for NASNet on test set"
   ]
  },
  {
   "cell_type": "code",
   "execution_count": 12,
   "metadata": {},
   "outputs": [
    {
     "data": {
      "text/plain": [
       "0.7906930693069307"
      ]
     },
     "execution_count": 12,
     "metadata": {},
     "output_type": "execute_result"
    }
   ],
   "source": [
    "accuracy = (nas_predicted2 == nas_test_labels2)\n",
    "accuracy.sum()/10100"
   ]
  },
  {
   "cell_type": "markdown",
   "metadata": {},
   "source": [
    "## Plot Confusion Matrix and Classification Report"
   ]
  },
  {
   "cell_type": "code",
   "execution_count": 17,
   "metadata": {},
   "outputs": [
    {
     "data": {
      "image/png": "[encoded data removed]",
      "text/plain": [
       "<Figure size 432x288 with 1 Axes>"
      ]
     },
     "metadata": {
      "needs_background": "light"
     },
     "output_type": "display_data"
    }
   ],
   "source": [
    "# Compute confusion matrix\n",
    "cm = confusion_matrix(nas_test_labels2, nas_predicted2);\n",
    "cm = cm.astype('float') / cm.sum(axis=1)[:, np.newaxis]\n",
    "f=plt.figure()\n",
    "plt.pcolor(cm,cmap='Spectral')\n",
    "plt.gca().invert_yaxis()\n",
    "plt.title('Confusion Matrix')\n",
    "plt.xlabel('Predicted Label')\n",
    "plt.ylabel('True Label')\n",
    "plt.savefig('confusion_matrix_nas.png')"
   ]
  },
  {
   "cell_type": "code",
   "execution_count": 22,
   "metadata": {},
   "outputs": [],
   "source": [
    "import sys\n",
    "import numpy\n",
    "numpy.set_printoptions(threshold=sys.maxsize)"
   ]
  },
  {
   "cell_type": "markdown",
   "metadata": {},
   "source": [
    "## This looks at the normalized confusion matrix for NASNet"
   ]
  },
  {
   "cell_type": "code",
   "execution_count": 32,
   "metadata": {},
   "outputs": [
    {
     "name": "stdout",
     "output_type": "stream",
     "text": [
      "[[0.59 0.   0.01 0.   0.   0.   0.01 0.   0.07 0.01 0.   0.   0.   0.\n",
      "  0.   0.01 0.   0.01 0.   0.   0.   0.   0.   0.   0.   0.   0.   0.\n",
      "  0.01 0.   0.   0.02 0.   0.   0.   0.   0.01 0.   0.   0.   0.   0.\n",
      "  0.04 0.   0.   0.   0.02 0.   0.   0.01 0.01 0.   0.01 0.   0.   0.\n",
      "  0.   0.02 0.03 0.   0.   0.   0.01 0.01 0.   0.   0.01 0.   0.   0.\n",
      "  0.   0.   0.01 0.   0.   0.   0.   0.   0.   0.01 0.   0.   0.01 0.\n",
      "  0.   0.   0.   0.   0.   0.   0.   0.   0.01 0.   0.02 0.   0.01 0.\n",
      "  0.01 0.   0.  ]\n",
      " [0.   0.6  0.01 0.   0.   0.   0.   0.   0.   0.   0.   0.   0.   0.\n",
      "  0.   0.   0.   0.   0.01 0.   0.03 0.   0.   0.   0.   0.01 0.   0.\n",
      "  0.   0.   0.   0.   0.   0.   0.   0.   0.   0.01 0.01 0.   0.   0.\n",
      "  0.02 0.   0.   0.   0.   0.   0.   0.   0.   0.   0.   0.   0.   0.\n",
      "  0.   0.   0.   0.01 0.   0.   0.   0.   0.   0.   0.   0.   0.   0.\n",
      "  0.   0.   0.   0.   0.1  0.   0.   0.03 0.   0.06 0.   0.   0.   0.\n",
      "  0.   0.   0.   0.   0.   0.   0.   0.   0.   0.1  0.   0.   0.   0.\n",
      "  0.   0.   0.  ]\n",
      " [0.05 0.   0.79 0.   0.   0.   0.   0.   0.   0.   0.   0.   0.   0.\n",
      "  0.01 0.   0.   0.01 0.   0.   0.   0.   0.   0.   0.   0.   0.   0.\n",
      "  0.01 0.   0.   0.   0.   0.   0.   0.   0.   0.   0.   0.   0.   0.\n",
      "  0.   0.   0.   0.   0.02 0.   0.   0.   0.   0.   0.   0.   0.   0.\n",
      "  0.   0.01 0.01 0.   0.   0.   0.   0.   0.   0.   0.   0.01 0.   0.\n",
      "  0.   0.   0.   0.01 0.   0.   0.   0.   0.   0.   0.   0.   0.   0.\n",
      "  0.01 0.01 0.01 0.   0.   0.   0.   0.   0.   0.   0.   0.02 0.   0.\n",
      "  0.01 0.01 0.  ]\n",
      " [0.   0.   0.   0.89 0.03 0.02 0.   0.   0.   0.   0.01 0.   0.   0.\n",
      "  0.   0.   0.   0.   0.   0.   0.   0.   0.   0.   0.   0.   0.   0.01\n",
      "  0.   0.   0.   0.   0.   0.   0.   0.   0.   0.   0.   0.01 0.   0.\n",
      "  0.   0.   0.   0.   0.   0.   0.   0.   0.   0.01 0.   0.   0.   0.\n",
      "  0.   0.   0.   0.   0.   0.   0.   0.   0.   0.   0.   0.   0.   0.\n",
      "  0.   0.   0.   0.   0.   0.   0.   0.   0.   0.   0.   0.   0.   0.\n",
      "  0.   0.   0.   0.   0.   0.   0.   0.   0.   0.01 0.   0.   0.   0.\n",
      "  0.   0.01 0.  ]\n",
      " [0.   0.   0.   0.01 0.85 0.   0.   0.   0.   0.   0.   0.   0.   0.\n",
      "  0.   0.   0.01 0.   0.   0.   0.   0.   0.   0.   0.   0.   0.   0.\n",
      "  0.   0.   0.   0.   0.   0.   0.   0.   0.   0.   0.   0.   0.   0.\n",
      "  0.01 0.   0.   0.   0.   0.   0.01 0.   0.   0.   0.   0.   0.   0.\n",
      "  0.   0.   0.   0.   0.   0.   0.   0.   0.   0.   0.   0.   0.   0.\n",
      "  0.   0.   0.   0.   0.   0.   0.   0.01 0.   0.   0.   0.   0.   0.01\n",
      "  0.   0.   0.   0.   0.   0.   0.   0.   0.   0.   0.   0.   0.   0.\n",
      "  0.   0.09 0.  ]\n",
      " [0.   0.   0.   0.   0.01 0.71 0.   0.   0.   0.   0.   0.03 0.   0.02\n",
      "  0.   0.05 0.   0.   0.   0.   0.   0.   0.   0.   0.   0.   0.   0.\n",
      "  0.   0.   0.   0.   0.   0.   0.   0.   0.   0.   0.   0.   0.   0.\n",
      "  0.   0.   0.   0.   0.   0.   0.1  0.   0.   0.   0.   0.   0.   0.\n",
      "  0.   0.   0.   0.   0.   0.   0.   0.   0.   0.   0.   0.   0.   0.\n",
      "  0.   0.   0.   0.   0.   0.   0.   0.   0.   0.   0.   0.   0.   0.\n",
      "  0.   0.   0.01 0.   0.01 0.   0.   0.   0.   0.01 0.   0.   0.   0.\n",
      "  0.   0.05 0.  ]\n",
      " [0.   0.   0.   0.   0.   0.   0.86 0.   0.   0.   0.   0.   0.   0.\n",
      "  0.   0.   0.   0.   0.01 0.   0.01 0.   0.   0.01 0.   0.   0.   0.\n",
      "  0.   0.   0.   0.02 0.   0.   0.   0.   0.   0.   0.   0.   0.   0.\n",
      "  0.04 0.   0.   0.01 0.   0.   0.   0.   0.   0.   0.   0.   0.   0.\n",
      "  0.   0.   0.   0.   0.   0.   0.   0.   0.   0.   0.   0.   0.   0.\n",
      "  0.   0.   0.01 0.   0.01 0.   0.   0.   0.   0.   0.   0.   0.   0.\n",
      "  0.   0.01 0.   0.   0.   0.   0.   0.   0.   0.   0.   0.   0.   0.01\n",
      "  0.   0.   0.  ]\n",
      " [0.   0.   0.   0.   0.   0.   0.   0.74 0.   0.   0.   0.   0.   0.\n",
      "  0.   0.06 0.   0.   0.   0.   0.   0.   0.   0.   0.   0.   0.01 0.\n",
      "  0.   0.   0.   0.   0.   0.   0.   0.   0.   0.   0.   0.   0.   0.\n",
      "  0.   0.   0.08 0.   0.   0.   0.04 0.   0.   0.   0.   0.   0.   0.\n",
      "  0.01 0.   0.   0.   0.   0.   0.   0.   0.   0.   0.   0.   0.   0.\n",
      "  0.   0.   0.   0.   0.01 0.   0.   0.   0.   0.   0.   0.   0.   0.\n",
      "  0.01 0.   0.   0.   0.   0.   0.   0.   0.   0.01 0.   0.01 0.01 0.\n",
      "  0.01 0.   0.  ]\n",
      " [0.04 0.   0.02 0.   0.   0.   0.   0.   0.54 0.   0.02 0.   0.   0.\n",
      "  0.01 0.   0.   0.   0.02 0.   0.01 0.04 0.   0.   0.   0.   0.01 0.\n",
      "  0.   0.   0.   0.   0.   0.   0.   0.   0.01 0.   0.   0.01 0.   0.01\n",
      "  0.06 0.02 0.01 0.01 0.   0.   0.   0.   0.   0.   0.   0.   0.   0.\n",
      "  0.   0.01 0.05 0.01 0.   0.   0.   0.   0.   0.   0.   0.   0.   0.\n",
      "  0.   0.   0.   0.   0.01 0.   0.   0.02 0.   0.   0.   0.   0.   0.\n",
      "  0.   0.   0.   0.   0.   0.   0.   0.01 0.   0.   0.02 0.   0.   0.\n",
      "  0.02 0.01 0.  ]\n",
      " [0.   0.   0.   0.   0.   0.   0.   0.   0.   0.74 0.   0.01 0.   0.\n",
      "  0.   0.   0.01 0.   0.   0.   0.   0.   0.   0.   0.   0.   0.   0.\n",
      "  0.   0.   0.   0.   0.   0.   0.   0.   0.06 0.   0.   0.   0.   0.\n",
      "  0.   0.   0.   0.   0.   0.   0.01 0.   0.   0.01 0.   0.   0.   0.\n",
      "  0.07 0.01 0.   0.   0.   0.   0.   0.   0.01 0.   0.   0.01 0.   0.\n",
      "  0.   0.   0.02 0.   0.   0.   0.   0.   0.   0.   0.   0.   0.   0.\n",
      "  0.   0.02 0.   0.   0.   0.   0.   0.   0.   0.   0.   0.   0.02 0.\n",
      "  0.   0.   0.  ]\n",
      " [0.   0.   0.02 0.   0.02 0.01 0.   0.   0.   0.   0.74 0.01 0.   0.03\n",
      "  0.01 0.03 0.   0.   0.   0.01 0.   0.   0.   0.   0.   0.   0.01 0.\n",
      "  0.   0.   0.   0.   0.   0.   0.   0.   0.   0.   0.   0.   0.01 0.\n",
      "  0.01 0.   0.   0.01 0.01 0.01 0.01 0.   0.   0.   0.   0.   0.   0.\n",
      "  0.   0.   0.   0.   0.   0.   0.   0.   0.   0.   0.   0.   0.   0.\n",
      "  0.   0.   0.   0.   0.   0.   0.   0.   0.   0.01 0.   0.   0.   0.\n",
      "  0.   0.   0.01 0.   0.   0.   0.   0.   0.   0.   0.   0.   0.   0.\n",
      "  0.01 0.02 0.  ]\n",
      " [0.   0.   0.   0.   0.01 0.01 0.   0.   0.   0.   0.   0.88 0.   0.\n",
      "  0.   0.02 0.   0.   0.   0.   0.   0.   0.   0.   0.   0.   0.   0.\n",
      "  0.   0.   0.02 0.   0.   0.   0.   0.   0.   0.   0.   0.01 0.   0.\n",
      "  0.   0.   0.   0.   0.   0.   0.04 0.   0.   0.   0.   0.   0.   0.\n",
      "  0.   0.   0.   0.   0.   0.   0.   0.   0.   0.   0.   0.   0.   0.\n",
      "  0.   0.   0.   0.   0.01 0.   0.   0.   0.   0.   0.   0.   0.   0.\n",
      "  0.   0.   0.   0.   0.   0.   0.   0.   0.   0.   0.   0.   0.   0.\n",
      "  0.   0.   0.  ]\n",
      " [0.   0.   0.   0.   0.   0.   0.   0.   0.   0.   0.   0.   0.87 0.\n",
      "  0.   0.01 0.   0.   0.   0.   0.   0.   0.   0.   0.   0.   0.   0.\n",
      "  0.   0.   0.   0.   0.   0.   0.   0.   0.01 0.   0.   0.   0.   0.\n",
      "  0.02 0.   0.   0.   0.   0.   0.   0.   0.   0.   0.   0.   0.   0.\n",
      "  0.   0.   0.03 0.   0.   0.   0.   0.01 0.   0.   0.   0.02 0.   0.01\n",
      "  0.   0.   0.01 0.   0.   0.   0.   0.   0.   0.   0.   0.   0.   0.\n",
      "  0.   0.01 0.   0.   0.   0.   0.   0.   0.   0.   0.   0.   0.   0.\n",
      "  0.   0.   0.  ]\n",
      " [0.01 0.   0.   0.01 0.01 0.01 0.   0.   0.   0.   0.02 0.   0.   0.83\n",
      "  0.   0.03 0.   0.   0.   0.   0.   0.   0.   0.   0.   0.   0.   0.\n",
      "  0.   0.   0.01 0.   0.   0.   0.   0.   0.   0.   0.   0.01 0.   0.\n",
      "  0.   0.   0.   0.   0.   0.   0.02 0.   0.   0.   0.   0.   0.   0.\n",
      "  0.   0.   0.   0.   0.   0.   0.   0.   0.   0.   0.   0.   0.   0.\n",
      "  0.   0.   0.   0.   0.   0.   0.01 0.   0.   0.   0.   0.   0.   0.\n",
      "  0.   0.   0.01 0.   0.   0.   0.   0.   0.   0.   0.01 0.   0.   0.\n",
      "  0.   0.01 0.  ]\n",
      " [0.   0.   0.01 0.   0.01 0.   0.   0.   0.01 0.   0.   0.   0.02 0.\n",
      "  0.68 0.   0.   0.01 0.   0.   0.   0.03 0.   0.   0.   0.   0.   0.\n",
      "  0.   0.   0.   0.01 0.   0.   0.   0.   0.   0.   0.   0.   0.   0.\n",
      "  0.01 0.   0.01 0.   0.01 0.   0.01 0.   0.   0.   0.01 0.   0.   0.\n",
      "  0.   0.   0.02 0.   0.   0.   0.   0.   0.   0.   0.02 0.   0.   0.\n",
      "  0.   0.   0.   0.01 0.   0.   0.   0.   0.   0.   0.   0.   0.   0.06\n",
      "  0.   0.   0.02 0.   0.   0.   0.   0.   0.   0.   0.02 0.   0.   0.\n",
      "  0.02 0.   0.  ]\n",
      " [0.   0.   0.   0.   0.   0.02 0.   0.   0.   0.   0.   0.   0.   0.\n",
      "  0.   0.8  0.   0.   0.   0.01 0.   0.   0.01 0.   0.   0.   0.   0.\n",
      "  0.   0.   0.01 0.   0.   0.   0.   0.   0.   0.   0.01 0.   0.   0.\n",
      "  0.   0.   0.   0.   0.   0.   0.   0.   0.   0.04 0.   0.   0.   0.\n",
      "  0.   0.   0.   0.   0.   0.   0.   0.   0.   0.   0.   0.   0.   0.\n",
      "  0.   0.   0.   0.   0.01 0.   0.   0.   0.   0.   0.   0.   0.   0.\n",
      "  0.   0.   0.   0.   0.   0.   0.   0.   0.   0.   0.   0.   0.01 0.\n",
      "  0.   0.08 0.  ]\n",
      " [0.   0.   0.   0.   0.   0.   0.   0.   0.   0.   0.   0.01 0.   0.01\n",
      "  0.   0.   0.89 0.   0.   0.   0.   0.   0.   0.   0.   0.   0.   0.\n",
      "  0.   0.   0.01 0.   0.   0.   0.   0.   0.   0.   0.   0.01 0.   0.\n",
      "  0.   0.   0.01 0.   0.   0.   0.02 0.   0.   0.   0.   0.   0.   0.\n",
      "  0.   0.01 0.   0.   0.   0.   0.   0.   0.   0.   0.   0.   0.   0.\n",
      "  0.   0.   0.   0.   0.   0.   0.   0.   0.   0.01 0.   0.   0.   0.\n",
      "  0.   0.   0.   0.   0.   0.   0.   0.   0.   0.   0.   0.   0.   0.\n",
      "  0.   0.02 0.  ]\n",
      " [0.   0.   0.   0.   0.   0.02 0.   0.   0.03 0.   0.   0.   0.   0.\n",
      "  0.01 0.   0.02 0.72 0.   0.   0.   0.01 0.02 0.   0.   0.   0.   0.\n",
      "  0.   0.01 0.   0.   0.   0.   0.   0.   0.   0.   0.   0.01 0.   0.\n",
      "  0.01 0.   0.   0.   0.   0.   0.   0.   0.01 0.   0.   0.   0.   0.\n",
      "  0.   0.   0.   0.   0.   0.   0.   0.   0.   0.   0.   0.   0.   0.\n",
      "  0.   0.   0.   0.06 0.   0.   0.   0.   0.   0.   0.   0.   0.   0.\n",
      "  0.   0.   0.   0.   0.   0.   0.   0.   0.   0.   0.05 0.   0.   0.\n",
      "  0.02 0.   0.  ]\n",
      " [0.   0.   0.   0.   0.01 0.   0.01 0.   0.   0.01 0.01 0.   0.   0.\n",
      "  0.   0.02 0.   0.   0.77 0.   0.   0.   0.   0.   0.   0.   0.   0.\n",
      "  0.   0.   0.   0.   0.   0.   0.   0.   0.   0.   0.   0.   0.   0.\n",
      "  0.01 0.   0.02 0.   0.   0.   0.01 0.   0.02 0.   0.   0.   0.   0.\n",
      "  0.01 0.02 0.01 0.   0.01 0.   0.   0.   0.   0.   0.01 0.   0.   0.\n",
      "  0.   0.   0.   0.   0.   0.02 0.   0.   0.   0.   0.   0.   0.02 0.\n",
      "  0.   0.   0.   0.   0.   0.   0.   0.   0.   0.   0.   0.   0.01 0.\n",
      "  0.   0.   0.  ]\n",
      " [0.   0.   0.   0.   0.   0.   0.01 0.   0.   0.01 0.   0.   0.   0.\n",
      "  0.   0.   0.   0.   0.   0.69 0.   0.   0.   0.   0.   0.   0.   0.\n",
      "  0.   0.   0.   0.   0.   0.   0.   0.   0.04 0.   0.   0.   0.   0.\n",
      "  0.03 0.   0.01 0.   0.02 0.   0.   0.   0.   0.05 0.   0.   0.   0.\n",
      "  0.   0.08 0.   0.   0.   0.   0.   0.   0.   0.   0.02 0.02 0.   0.\n",
      "  0.   0.   0.01 0.   0.   0.   0.   0.   0.   0.   0.   0.   0.   0.\n",
      "  0.   0.   0.   0.   0.   0.   0.   0.   0.   0.   0.   0.   0.01 0.\n",
      "  0.   0.   0.  ]\n",
      " [0.   0.   0.   0.   0.   0.   0.   0.   0.   0.   0.   0.   0.   0.\n",
      "  0.   0.   0.   0.   0.02 0.   0.83 0.   0.   0.   0.   0.   0.02 0.\n",
      "  0.   0.   0.   0.01 0.   0.   0.   0.   0.   0.   0.01 0.01 0.   0.\n",
      "  0.   0.03 0.   0.   0.   0.   0.   0.   0.01 0.   0.   0.   0.   0.\n",
      "  0.   0.01 0.   0.   0.   0.   0.   0.   0.   0.   0.   0.   0.   0.\n",
      "  0.   0.01 0.   0.   0.   0.   0.   0.02 0.   0.   0.   0.   0.   0.\n",
      "  0.   0.01 0.   0.   0.   0.   0.   0.   0.   0.   0.   0.   0.   0.\n",
      "  0.   0.01 0.  ]\n",
      " [0.   0.   0.01 0.   0.   0.02 0.   0.   0.01 0.   0.   0.   0.   0.\n",
      "  0.   0.   0.   0.   0.   0.   0.   0.54 0.13 0.   0.   0.   0.   0.\n",
      "  0.   0.01 0.   0.   0.   0.   0.   0.   0.   0.   0.   0.   0.   0.\n",
      "  0.01 0.   0.   0.   0.   0.   0.   0.   0.   0.   0.   0.   0.   0.\n",
      "  0.   0.   0.03 0.   0.   0.   0.   0.   0.   0.01 0.   0.   0.   0.\n",
      "  0.   0.   0.   0.01 0.   0.   0.   0.   0.   0.   0.   0.   0.   0.12\n",
      "  0.   0.   0.01 0.   0.   0.   0.   0.   0.   0.   0.01 0.   0.   0.\n",
      "  0.08 0.   0.  ]\n",
      " [0.   0.   0.   0.   0.   0.   0.   0.   0.   0.   0.   0.   0.   0.\n",
      "  0.   0.01 0.   0.02 0.   0.01 0.   0.03 0.59 0.   0.   0.   0.   0.\n",
      "  0.   0.02 0.   0.   0.   0.   0.   0.   0.   0.   0.   0.02 0.   0.\n",
      "  0.   0.01 0.   0.01 0.   0.   0.   0.   0.   0.   0.   0.   0.   0.\n",
      "  0.   0.   0.05 0.   0.02 0.   0.   0.   0.   0.   0.   0.   0.   0.\n",
      "  0.   0.   0.   0.02 0.01 0.   0.   0.   0.   0.   0.   0.   0.   0.03\n",
      "  0.   0.   0.   0.   0.   0.   0.   0.   0.   0.   0.   0.   0.   0.\n",
      "  0.11 0.04 0.  ]\n",
      " [0.   0.   0.   0.   0.   0.   0.01 0.   0.   0.   0.   0.   0.01 0.01\n",
      "  0.   0.   0.01 0.   0.   0.   0.   0.   0.   0.82 0.   0.   0.   0.\n",
      "  0.   0.   0.   0.   0.   0.   0.   0.   0.01 0.   0.   0.   0.01 0.\n",
      "  0.01 0.03 0.   0.   0.   0.   0.   0.   0.   0.   0.   0.   0.   0.\n",
      "  0.   0.   0.01 0.   0.   0.   0.   0.   0.   0.   0.   0.   0.05 0.\n",
      "  0.   0.   0.   0.   0.   0.   0.   0.   0.   0.   0.   0.   0.   0.\n",
      "  0.   0.   0.01 0.   0.   0.   0.   0.   0.   0.   0.   0.01 0.   0.\n",
      "  0.   0.   0.  ]\n",
      " [0.   0.   0.   0.   0.   0.01 0.   0.   0.   0.   0.   0.   0.   0.\n",
      "  0.   0.   0.02 0.   0.01 0.   0.   0.   0.   0.   0.9  0.01 0.   0.\n",
      "  0.   0.   0.   0.   0.   0.   0.   0.   0.   0.   0.   0.   0.   0.\n",
      "  0.   0.   0.   0.   0.   0.   0.   0.   0.   0.   0.   0.   0.   0.\n",
      "  0.   0.   0.   0.   0.   0.   0.02 0.   0.   0.   0.   0.   0.   0.\n",
      "  0.   0.   0.   0.02 0.   0.   0.   0.   0.   0.   0.   0.   0.01 0.\n",
      "  0.   0.   0.   0.   0.   0.   0.   0.   0.   0.   0.   0.   0.   0.\n",
      "  0.   0.   0.  ]\n",
      " [0.   0.   0.   0.   0.   0.   0.   0.   0.   0.   0.   0.   0.   0.01\n",
      "  0.   0.   0.   0.   0.   0.   0.   0.   0.   0.   0.   0.89 0.01 0.\n",
      "  0.01 0.   0.   0.   0.   0.   0.   0.   0.01 0.   0.   0.01 0.   0.\n",
      "  0.   0.   0.   0.   0.   0.   0.   0.02 0.   0.   0.   0.02 0.   0.\n",
      "  0.   0.   0.   0.   0.   0.   0.   0.   0.   0.   0.   0.   0.   0.\n",
      "  0.   0.   0.   0.   0.   0.   0.   0.   0.   0.   0.   0.   0.   0.\n",
      "  0.   0.   0.   0.   0.   0.   0.   0.   0.   0.01 0.   0.   0.   0.\n",
      "  0.   0.01 0.  ]\n",
      " [0.   0.   0.   0.   0.03 0.   0.   0.   0.   0.01 0.   0.   0.   0.\n",
      "  0.   0.02 0.02 0.   0.   0.   0.   0.   0.   0.   0.   0.01 0.83 0.\n",
      "  0.   0.   0.   0.   0.   0.   0.01 0.   0.01 0.   0.   0.   0.   0.\n",
      "  0.   0.   0.   0.   0.   0.   0.   0.   0.03 0.   0.   0.   0.   0.\n",
      "  0.   0.   0.   0.   0.   0.   0.   0.   0.   0.   0.   0.   0.   0.\n",
      "  0.   0.   0.   0.   0.   0.   0.   0.   0.   0.   0.   0.   0.   0.\n",
      "  0.   0.   0.   0.   0.   0.   0.   0.   0.   0.   0.   0.   0.   0.01\n",
      "  0.   0.02 0.  ]\n",
      " [0.   0.   0.   0.   0.   0.   0.   0.   0.01 0.   0.   0.   0.01 0.\n",
      "  0.   0.   0.   0.   0.   0.   0.   0.   0.01 0.   0.   0.   0.   0.9\n",
      "  0.   0.   0.   0.   0.   0.   0.   0.   0.   0.   0.   0.   0.   0.01\n",
      "  0.   0.   0.   0.   0.   0.   0.   0.   0.   0.   0.   0.   0.   0.\n",
      "  0.   0.01 0.   0.   0.   0.   0.01 0.   0.   0.   0.   0.   0.   0.\n",
      "  0.   0.   0.01 0.02 0.   0.   0.   0.   0.   0.   0.   0.   0.   0.\n",
      "  0.   0.01 0.   0.   0.   0.   0.   0.   0.   0.   0.   0.   0.   0.\n",
      "  0.   0.   0.  ]\n",
      " [0.   0.   0.   0.   0.01 0.   0.   0.   0.   0.   0.01 0.   0.   0.01\n",
      "  0.   0.   0.01 0.   0.   0.   0.   0.   0.   0.   0.   0.   0.   0.\n",
      "  0.77 0.   0.   0.   0.   0.   0.03 0.   0.   0.   0.02 0.01 0.   0.\n",
      "  0.   0.   0.01 0.   0.01 0.   0.   0.03 0.02 0.   0.   0.01 0.   0.01\n",
      "  0.02 0.   0.   0.   0.   0.   0.   0.   0.   0.   0.   0.01 0.   0.\n",
      "  0.   0.   0.   0.   0.   0.   0.   0.   0.   0.   0.   0.   0.   0.\n",
      "  0.   0.   0.   0.   0.   0.   0.   0.   0.   0.   0.   0.   0.   0.\n",
      "  0.   0.01 0.  ]\n",
      " [0.   0.   0.   0.   0.   0.   0.   0.   0.   0.   0.   0.   0.   0.\n",
      "  0.01 0.   0.   0.01 0.   0.   0.   0.   0.01 0.   0.   0.   0.   0.\n",
      "  0.   0.87 0.   0.02 0.   0.   0.   0.   0.   0.   0.   0.01 0.   0.\n",
      "  0.   0.   0.   0.   0.   0.   0.   0.   0.   0.   0.   0.   0.   0.\n",
      "  0.   0.   0.   0.   0.   0.01 0.   0.01 0.   0.   0.   0.   0.   0.\n",
      "  0.   0.   0.   0.   0.01 0.   0.   0.   0.   0.   0.   0.   0.   0.04\n",
      "  0.   0.   0.   0.   0.   0.   0.   0.   0.   0.   0.   0.   0.   0.\n",
      "  0.   0.   0.  ]\n",
      " [0.   0.   0.   0.   0.   0.   0.   0.   0.   0.   0.   0.   0.   0.01\n",
      "  0.   0.03 0.   0.   0.   0.   0.   0.   0.   0.   0.   0.   0.01 0.\n",
      "  0.   0.   0.91 0.   0.   0.   0.01 0.   0.   0.   0.   0.   0.   0.\n",
      "  0.   0.01 0.   0.   0.   0.   0.   0.   0.   0.01 0.   0.   0.   0.\n",
      "  0.   0.   0.   0.   0.   0.   0.   0.   0.   0.   0.01 0.   0.   0.\n",
      "  0.   0.   0.   0.   0.   0.   0.   0.   0.   0.   0.   0.   0.   0.\n",
      "  0.   0.   0.   0.   0.   0.   0.   0.   0.   0.   0.   0.   0.   0.\n",
      "  0.   0.   0.  ]\n",
      " [0.   0.   0.   0.   0.   0.   0.08 0.   0.01 0.   0.   0.   0.   0.\n",
      "  0.   0.   0.   0.   0.   0.   0.   0.01 0.01 0.   0.   0.   0.   0.\n",
      "  0.   0.02 0.   0.78 0.   0.   0.   0.   0.02 0.   0.   0.   0.01 0.\n",
      "  0.   0.   0.   0.01 0.01 0.   0.   0.   0.   0.   0.   0.01 0.   0.\n",
      "  0.   0.   0.   0.   0.   0.   0.   0.   0.   0.   0.   0.   0.01 0.\n",
      "  0.   0.   0.   0.   0.01 0.   0.   0.   0.   0.   0.   0.   0.   0.\n",
      "  0.   0.   0.   0.   0.   0.   0.   0.   0.   0.   0.   0.   0.01 0.\n",
      "  0.   0.   0.  ]\n",
      " [0.   0.   0.   0.   0.   0.   0.   0.   0.   0.   0.   0.03 0.   0.\n",
      "  0.   0.01 0.   0.   0.01 0.   0.   0.   0.   0.   0.   0.   0.   0.\n",
      "  0.   0.   0.   0.   0.88 0.   0.   0.   0.   0.   0.   0.   0.   0.01\n",
      "  0.   0.   0.   0.   0.   0.   0.   0.   0.   0.   0.03 0.   0.   0.\n",
      "  0.   0.   0.   0.   0.   0.   0.   0.   0.   0.   0.   0.   0.   0.\n",
      "  0.   0.   0.   0.   0.   0.   0.   0.   0.   0.   0.   0.01 0.   0.\n",
      "  0.   0.   0.01 0.   0.   0.   0.   0.   0.   0.   0.   0.01 0.   0.\n",
      "  0.   0.   0.  ]\n",
      " [0.   0.   0.   0.   0.   0.   0.   0.   0.   0.   0.   0.   0.   0.\n",
      "  0.   0.   0.   0.   0.   0.   0.   0.   0.   0.   0.   0.   0.   0.\n",
      "  0.   0.   0.   0.   0.   0.96 0.   0.   0.   0.   0.   0.   0.   0.\n",
      "  0.   0.   0.   0.   0.   0.   0.   0.   0.   0.01 0.   0.   0.   0.\n",
      "  0.   0.   0.   0.   0.   0.   0.   0.   0.   0.   0.   0.   0.   0.\n",
      "  0.   0.   0.   0.   0.01 0.   0.   0.   0.   0.   0.   0.   0.   0.\n",
      "  0.   0.   0.   0.   0.   0.   0.   0.   0.   0.   0.   0.01 0.01 0.\n",
      "  0.   0.   0.  ]\n",
      " [0.   0.   0.   0.   0.   0.   0.   0.   0.   0.01 0.   0.   0.   0.01\n",
      "  0.   0.   0.   0.   0.   0.   0.   0.   0.   0.   0.01 0.   0.   0.\n",
      "  0.05 0.   0.   0.   0.   0.   0.91 0.   0.   0.   0.   0.   0.   0.\n",
      "  0.   0.   0.   0.   0.   0.   0.   0.   0.   0.   0.   0.   0.   0.\n",
      "  0.01 0.   0.   0.   0.   0.   0.   0.   0.   0.   0.   0.   0.   0.\n",
      "  0.   0.   0.   0.   0.   0.   0.   0.   0.   0.   0.   0.   0.   0.\n",
      "  0.   0.   0.   0.   0.   0.   0.   0.   0.   0.   0.   0.   0.   0.\n",
      "  0.   0.   0.  ]\n",
      " [0.   0.   0.   0.   0.01 0.01 0.   0.   0.   0.   0.01 0.   0.   0.\n",
      "  0.   0.   0.   0.   0.   0.   0.   0.   0.   0.   0.01 0.   0.   0.\n",
      "  0.   0.   0.01 0.   0.01 0.   0.   0.79 0.   0.   0.   0.   0.   0.\n",
      "  0.   0.01 0.   0.   0.   0.02 0.   0.   0.   0.04 0.   0.   0.   0.\n",
      "  0.   0.02 0.   0.01 0.   0.   0.   0.   0.   0.   0.   0.   0.   0.\n",
      "  0.   0.   0.   0.   0.   0.   0.   0.   0.   0.   0.   0.   0.02 0.\n",
      "  0.   0.   0.   0.01 0.   0.01 0.   0.   0.   0.   0.   0.   0.   0.\n",
      "  0.   0.01 0.  ]\n",
      " [0.   0.   0.   0.01 0.01 0.   0.   0.   0.   0.02 0.   0.01 0.   0.\n",
      "  0.   0.   0.   0.   0.   0.   0.   0.   0.   0.   0.   0.   0.03 0.\n",
      "  0.   0.   0.01 0.   0.   0.   0.   0.   0.84 0.   0.   0.   0.   0.\n",
      "  0.   0.   0.   0.   0.   0.   0.01 0.   0.   0.02 0.   0.   0.   0.\n",
      "  0.   0.01 0.02 0.   0.   0.   0.   0.   0.   0.   0.   0.   0.   0.\n",
      "  0.   0.   0.   0.   0.   0.   0.   0.   0.   0.   0.   0.   0.   0.\n",
      "  0.   0.   0.   0.   0.   0.   0.   0.   0.   0.   0.   0.   0.01 0.\n",
      "  0.   0.   0.  ]\n",
      " [0.   0.   0.   0.   0.03 0.   0.   0.   0.   0.01 0.   0.   0.   0.\n",
      "  0.   0.   0.   0.   0.   0.   0.   0.02 0.   0.   0.   0.   0.02 0.\n",
      "  0.   0.   0.   0.   0.   0.   0.   0.   0.03 0.6  0.   0.   0.   0.\n",
      "  0.   0.   0.   0.   0.   0.   0.   0.   0.03 0.   0.   0.   0.   0.\n",
      "  0.01 0.   0.   0.   0.   0.   0.   0.   0.   0.   0.   0.01 0.   0.\n",
      "  0.   0.   0.   0.   0.   0.   0.   0.03 0.   0.02 0.   0.   0.   0.\n",
      "  0.   0.   0.   0.   0.   0.   0.   0.01 0.   0.17 0.   0.   0.   0.\n",
      "  0.   0.01 0.  ]\n",
      " [0.   0.   0.   0.   0.01 0.   0.   0.   0.   0.   0.   0.   0.   0.\n",
      "  0.   0.   0.01 0.   0.01 0.   0.01 0.   0.   0.   0.   0.01 0.   0.\n",
      "  0.   0.   0.   0.   0.   0.   0.   0.   0.   0.   0.83 0.   0.05 0.\n",
      "  0.   0.04 0.   0.   0.   0.   0.   0.   0.   0.   0.   0.   0.   0.\n",
      "  0.   0.01 0.   0.   0.   0.   0.01 0.   0.   0.   0.01 0.   0.   0.\n",
      "  0.   0.   0.   0.   0.   0.   0.   0.   0.   0.   0.   0.   0.   0.\n",
      "  0.   0.   0.   0.   0.   0.   0.   0.   0.   0.   0.   0.   0.   0.\n",
      "  0.   0.   0.  ]\n",
      " [0.   0.   0.01 0.   0.03 0.02 0.   0.   0.01 0.   0.   0.01 0.   0.01\n",
      "  0.   0.04 0.03 0.   0.   0.   0.   0.01 0.   0.   0.   0.   0.01 0.\n",
      "  0.   0.   0.   0.   0.   0.   0.   0.   0.   0.02 0.   0.55 0.   0.\n",
      "  0.01 0.   0.   0.   0.   0.   0.   0.   0.02 0.01 0.   0.   0.   0.\n",
      "  0.   0.01 0.01 0.   0.   0.   0.   0.   0.   0.   0.   0.01 0.   0.\n",
      "  0.   0.   0.   0.01 0.06 0.   0.   0.01 0.   0.   0.   0.   0.01 0.\n",
      "  0.   0.   0.02 0.01 0.   0.   0.   0.   0.   0.02 0.   0.   0.   0.\n",
      "  0.   0.04 0.  ]\n",
      " [0.   0.   0.   0.   0.   0.   0.   0.   0.   0.   0.   0.   0.   0.\n",
      "  0.   0.   0.   0.   0.   0.   0.01 0.   0.   0.   0.   0.03 0.   0.\n",
      "  0.   0.   0.   0.   0.   0.   0.   0.   0.01 0.   0.01 0.   0.92 0.\n",
      "  0.   0.   0.   0.   0.   0.   0.   0.   0.   0.   0.   0.   0.   0.\n",
      "  0.   0.   0.01 0.   0.   0.   0.   0.   0.   0.   0.   0.   0.01 0.\n",
      "  0.   0.   0.   0.   0.   0.   0.   0.   0.   0.   0.   0.   0.   0.\n",
      "  0.   0.   0.   0.   0.   0.   0.   0.   0.   0.   0.   0.   0.   0.\n",
      "  0.   0.   0.  ]\n",
      " [0.   0.   0.   0.   0.   0.   0.   0.   0.   0.   0.   0.   0.   0.\n",
      "  0.   0.01 0.   0.   0.   0.   0.   0.   0.   0.   0.02 0.   0.   0.01\n",
      "  0.   0.   0.   0.   0.   0.   0.   0.   0.   0.01 0.   0.   0.   0.81\n",
      "  0.01 0.   0.   0.   0.   0.   0.   0.   0.   0.   0.   0.   0.01 0.\n",
      "  0.   0.03 0.   0.01 0.   0.   0.03 0.   0.01 0.   0.   0.   0.01 0.\n",
      "  0.   0.   0.   0.   0.   0.   0.   0.   0.   0.   0.   0.02 0.   0.\n",
      "  0.   0.   0.   0.   0.   0.   0.   0.   0.   0.   0.   0.   0.   0.\n",
      "  0.01 0.   0.  ]\n",
      " [0.   0.   0.   0.   0.   0.   0.   0.   0.01 0.   0.01 0.   0.   0.\n",
      "  0.   0.   0.01 0.   0.   0.   0.   0.   0.   0.   0.   0.   0.   0.\n",
      "  0.   0.   0.   0.   0.   0.   0.   0.   0.   0.   0.   0.   0.   0.\n",
      "  0.91 0.   0.01 0.   0.01 0.   0.   0.   0.   0.   0.   0.   0.   0.\n",
      "  0.   0.   0.   0.   0.   0.   0.   0.   0.   0.   0.   0.   0.   0.\n",
      "  0.   0.   0.02 0.   0.   0.   0.   0.   0.   0.   0.   0.   0.   0.\n",
      "  0.   0.01 0.   0.   0.   0.   0.   0.   0.   0.   0.01 0.   0.   0.\n",
      "  0.   0.   0.  ]\n",
      " [0.   0.   0.   0.01 0.   0.   0.01 0.   0.   0.   0.   0.   0.   0.\n",
      "  0.   0.04 0.01 0.   0.   0.   0.   0.   0.   0.   0.   0.   0.01 0.\n",
      "  0.   0.   0.   0.   0.   0.   0.   0.   0.   0.   0.   0.   0.02 0.\n",
      "  0.   0.86 0.   0.   0.   0.   0.   0.   0.   0.   0.   0.   0.   0.\n",
      "  0.   0.   0.   0.   0.   0.   0.   0.   0.   0.   0.01 0.   0.   0.\n",
      "  0.   0.   0.   0.   0.   0.   0.   0.   0.   0.   0.   0.   0.   0.\n",
      "  0.   0.01 0.   0.   0.   0.   0.   0.   0.   0.   0.   0.   0.   0.\n",
      "  0.   0.02 0.  ]\n",
      " [0.   0.   0.   0.   0.   0.   0.   0.   0.   0.   0.   0.   0.   0.\n",
      "  0.   0.01 0.   0.   0.   0.   0.   0.   0.   0.   0.   0.   0.   0.\n",
      "  0.   0.   0.   0.   0.   0.   0.   0.   0.   0.   0.   0.   0.   0.\n",
      "  0.   0.   0.95 0.   0.   0.   0.   0.   0.01 0.   0.   0.   0.   0.\n",
      "  0.   0.   0.   0.   0.   0.   0.   0.   0.   0.   0.   0.   0.   0.\n",
      "  0.   0.01 0.   0.   0.   0.   0.   0.   0.   0.   0.   0.   0.   0.\n",
      "  0.01 0.   0.   0.   0.   0.   0.   0.01 0.   0.   0.   0.   0.   0.\n",
      "  0.   0.   0.  ]\n",
      " [0.   0.   0.   0.   0.   0.01 0.   0.   0.   0.   0.   0.01 0.   0.\n",
      "  0.   0.01 0.   0.   0.   0.   0.   0.   0.   0.   0.   0.   0.   0.\n",
      "  0.   0.01 0.   0.   0.   0.   0.   0.   0.   0.   0.   0.   0.   0.\n",
      "  0.   0.   0.02 0.87 0.   0.   0.03 0.   0.   0.   0.   0.   0.   0.\n",
      "  0.   0.   0.03 0.   0.   0.   0.   0.01 0.   0.   0.   0.   0.   0.\n",
      "  0.   0.   0.   0.   0.   0.   0.   0.   0.   0.   0.   0.   0.   0.\n",
      "  0.   0.   0.   0.   0.   0.   0.   0.   0.   0.   0.   0.   0.   0.\n",
      "  0.   0.   0.  ]\n",
      " [0.   0.   0.   0.   0.   0.   0.01 0.   0.   0.   0.   0.   0.   0.\n",
      "  0.   0.01 0.   0.   0.   0.   0.   0.   0.   0.   0.   0.01 0.   0.\n",
      "  0.   0.   0.01 0.   0.   0.   0.   0.01 0.   0.   0.   0.   0.   0.\n",
      "  0.01 0.   0.   0.   0.86 0.   0.   0.01 0.01 0.   0.   0.   0.   0.\n",
      "  0.   0.02 0.   0.   0.   0.   0.   0.01 0.   0.   0.   0.01 0.   0.\n",
      "  0.   0.   0.   0.   0.01 0.   0.01 0.   0.   0.   0.   0.   0.   0.\n",
      "  0.   0.   0.   0.   0.   0.   0.   0.   0.   0.   0.   0.   0.   0.\n",
      "  0.   0.   0.  ]\n",
      " [0.   0.   0.   0.   0.   0.02 0.   0.   0.   0.   0.   0.02 0.   0.\n",
      "  0.   0.1  0.   0.   0.01 0.   0.   0.   0.   0.   0.   0.   0.01 0.\n",
      "  0.   0.   0.   0.   0.   0.01 0.   0.   0.01 0.   0.   0.   0.01 0.\n",
      "  0.   0.01 0.   0.01 0.01 0.56 0.02 0.   0.01 0.   0.   0.   0.   0.\n",
      "  0.   0.02 0.   0.   0.01 0.   0.04 0.   0.   0.   0.   0.   0.   0.\n",
      "  0.   0.   0.   0.   0.   0.   0.   0.01 0.   0.   0.   0.   0.02 0.\n",
      "  0.04 0.   0.   0.02 0.   0.03 0.   0.   0.   0.   0.   0.   0.   0.\n",
      "  0.   0.   0.  ]\n",
      " [0.   0.   0.   0.   0.   0.01 0.   0.   0.   0.   0.   0.01 0.   0.02\n",
      "  0.   0.04 0.   0.   0.   0.   0.   0.   0.   0.   0.   0.   0.   0.\n",
      "  0.   0.   0.   0.   0.   0.   0.   0.   0.01 0.   0.   0.   0.   0.\n",
      "  0.   0.   0.   0.   0.   0.   0.89 0.   0.   0.   0.   0.   0.   0.\n",
      "  0.   0.01 0.   0.   0.   0.   0.   0.   0.   0.   0.   0.   0.   0.01\n",
      "  0.   0.   0.   0.   0.   0.   0.   0.   0.   0.   0.   0.   0.   0.\n",
      "  0.   0.   0.   0.   0.   0.   0.   0.   0.   0.   0.   0.   0.   0.\n",
      "  0.   0.   0.  ]\n",
      " [0.02 0.   0.   0.   0.   0.   0.   0.   0.   0.   0.01 0.01 0.   0.\n",
      "  0.   0.01 0.   0.   0.   0.   0.   0.   0.   0.01 0.   0.09 0.   0.\n",
      "  0.   0.   0.   0.   0.   0.   0.   0.   0.   0.   0.01 0.   0.01 0.\n",
      "  0.05 0.   0.   0.   0.03 0.   0.   0.66 0.02 0.01 0.   0.   0.   0.\n",
      "  0.   0.   0.   0.   0.   0.   0.   0.   0.   0.   0.   0.03 0.01 0.\n",
      "  0.   0.   0.   0.   0.   0.   0.   0.   0.   0.   0.01 0.   0.   0.01\n",
      "  0.   0.   0.   0.   0.   0.   0.   0.   0.   0.   0.   0.   0.   0.\n",
      "  0.   0.   0.  ]\n",
      " [0.   0.   0.01 0.   0.   0.   0.01 0.   0.   0.   0.   0.02 0.   0.01\n",
      "  0.   0.   0.01 0.   0.01 0.   0.   0.   0.   0.   0.   0.01 0.01 0.\n",
      "  0.   0.   0.   0.   0.   0.   0.   0.   0.   0.01 0.   0.   0.   0.\n",
      "  0.03 0.   0.01 0.   0.   0.   0.   0.   0.78 0.   0.   0.   0.   0.\n",
      "  0.   0.   0.   0.   0.   0.   0.   0.   0.   0.   0.   0.01 0.   0.\n",
      "  0.   0.   0.   0.   0.   0.   0.   0.02 0.   0.   0.   0.   0.   0.\n",
      "  0.01 0.   0.01 0.   0.   0.   0.   0.   0.   0.   0.   0.   0.   0.\n",
      "  0.01 0.02 0.  ]\n",
      " [0.   0.   0.   0.   0.   0.   0.   0.   0.   0.   0.   0.   0.   0.\n",
      "  0.   0.02 0.01 0.   0.   0.   0.   0.   0.   0.   0.   0.   0.   0.\n",
      "  0.   0.   0.   0.   0.   0.   0.   0.   0.   0.   0.   0.   0.   0.\n",
      "  0.   0.   0.   0.   0.   0.   0.   0.   0.   0.94 0.   0.   0.   0.\n",
      "  0.   0.   0.01 0.   0.   0.   0.   0.   0.   0.   0.01 0.   0.   0.\n",
      "  0.   0.   0.   0.   0.01 0.   0.   0.   0.   0.   0.   0.   0.   0.\n",
      "  0.   0.   0.   0.   0.   0.   0.   0.   0.   0.   0.   0.   0.   0.\n",
      "  0.   0.   0.  ]\n",
      " [0.   0.   0.   0.   0.   0.   0.   0.   0.   0.   0.   0.   0.01 0.\n",
      "  0.   0.03 0.   0.   0.   0.01 0.02 0.01 0.   0.   0.   0.01 0.   0.\n",
      "  0.   0.   0.   0.   0.   0.   0.   0.   0.   0.   0.   0.   0.   0.\n",
      "  0.   0.   0.   0.   0.   0.   0.   0.   0.01 0.   0.86 0.   0.   0.\n",
      "  0.   0.   0.   0.   0.   0.   0.   0.   0.   0.   0.   0.   0.   0.\n",
      "  0.01 0.   0.   0.   0.   0.   0.   0.   0.   0.   0.   0.   0.   0.\n",
      "  0.   0.01 0.01 0.   0.   0.   0.   0.   0.   0.   0.   0.   0.01 0.\n",
      "  0.   0.   0.  ]\n",
      " [0.   0.01 0.   0.   0.01 0.   0.   0.   0.   0.   0.   0.   0.   0.\n",
      "  0.   0.01 0.   0.   0.   0.   0.   0.   0.   0.   0.   0.02 0.   0.\n",
      "  0.   0.   0.   0.   0.   0.   0.01 0.   0.04 0.   0.   0.01 0.01 0.\n",
      "  0.   0.01 0.   0.   0.   0.   0.   0.   0.   0.01 0.   0.84 0.   0.\n",
      "  0.   0.   0.01 0.   0.   0.   0.   0.   0.   0.   0.   0.   0.01 0.\n",
      "  0.   0.   0.   0.   0.   0.   0.   0.   0.   0.   0.   0.   0.   0.\n",
      "  0.   0.   0.   0.   0.   0.   0.   0.   0.   0.   0.   0.   0.   0.\n",
      "  0.   0.   0.  ]\n",
      " [0.   0.   0.   0.   0.   0.   0.   0.   0.   0.   0.   0.   0.   0.\n",
      "  0.   0.   0.   0.   0.   0.   0.   0.   0.   0.   0.   0.   0.   0.\n",
      "  0.   0.   0.   0.   0.   0.   0.   0.   0.   0.   0.   0.   0.   0.02\n",
      "  0.   0.   0.   0.   0.   0.   0.   0.   0.   0.01 0.   0.   0.91 0.\n",
      "  0.   0.   0.   0.   0.   0.   0.   0.   0.02 0.   0.   0.   0.   0.\n",
      "  0.   0.   0.   0.   0.   0.04 0.   0.   0.   0.   0.   0.   0.   0.\n",
      "  0.   0.   0.   0.   0.   0.   0.   0.   0.   0.   0.   0.   0.   0.\n",
      "  0.   0.   0.  ]\n",
      " [0.   0.   0.   0.   0.   0.   0.   0.   0.   0.02 0.   0.   0.01 0.01\n",
      "  0.   0.   0.   0.   0.   0.   0.   0.   0.   0.   0.   0.02 0.   0.\n",
      "  0.   0.   0.   0.   0.   0.   0.   0.   0.07 0.   0.01 0.01 0.   0.\n",
      "  0.   0.   0.   0.   0.01 0.   0.01 0.   0.   0.   0.   0.03 0.   0.76\n",
      "  0.   0.   0.   0.   0.   0.01 0.   0.01 0.   0.   0.   0.   0.   0.\n",
      "  0.   0.   0.   0.   0.01 0.   0.   0.   0.   0.   0.01 0.   0.   0.\n",
      "  0.   0.   0.   0.   0.   0.   0.   0.   0.   0.   0.   0.   0.   0.\n",
      "  0.   0.   0.  ]\n",
      " [0.   0.   0.   0.01 0.01 0.   0.   0.   0.   0.02 0.   0.   0.   0.\n",
      "  0.   0.02 0.   0.   0.02 0.01 0.   0.   0.   0.   0.   0.   0.   0.01\n",
      "  0.01 0.   0.   0.   0.   0.   0.   0.   0.   0.   0.   0.   0.   0.\n",
      "  0.   0.02 0.01 0.   0.   0.   0.   0.   0.02 0.   0.   0.   0.   0.\n",
      "  0.77 0.   0.   0.   0.   0.   0.   0.   0.   0.   0.03 0.   0.   0.\n",
      "  0.   0.   0.   0.   0.   0.   0.   0.   0.   0.   0.   0.   0.   0.\n",
      "  0.01 0.   0.   0.   0.   0.   0.   0.   0.   0.   0.   0.   0.02 0.\n",
      "  0.   0.01 0.  ]\n",
      " [0.   0.   0.   0.   0.   0.   0.   0.   0.   0.   0.   0.   0.   0.01\n",
      "  0.   0.01 0.   0.01 0.   0.   0.   0.   0.   0.   0.   0.   0.   0.02\n",
      "  0.   0.   0.   0.   0.   0.01 0.   0.   0.02 0.   0.   0.   0.   0.\n",
      "  0.   0.   0.   0.   0.01 0.   0.03 0.   0.   0.01 0.   0.   0.   0.\n",
      "  0.   0.83 0.01 0.   0.   0.   0.   0.   0.   0.   0.01 0.   0.   0.\n",
      "  0.   0.   0.   0.01 0.   0.   0.   0.   0.   0.   0.   0.   0.   0.\n",
      "  0.   0.   0.   0.   0.   0.   0.   0.   0.   0.   0.   0.   0.   0.\n",
      "  0.   0.01 0.  ]\n",
      " [0.   0.   0.   0.   0.   0.   0.   0.   0.   0.   0.   0.   0.01 0.\n",
      "  0.   0.01 0.02 0.   0.   0.   0.   0.01 0.   0.   0.   0.   0.01 0.\n",
      "  0.   0.   0.   0.02 0.   0.   0.   0.   0.   0.   0.   0.   0.01 0.\n",
      "  0.   0.   0.   0.11 0.   0.   0.   0.   0.   0.   0.   0.   0.   0.\n",
      "  0.   0.   0.72 0.   0.   0.   0.   0.   0.   0.   0.   0.   0.   0.\n",
      "  0.   0.   0.   0.   0.01 0.   0.   0.   0.   0.   0.   0.   0.   0.\n",
      "  0.   0.   0.01 0.   0.   0.   0.   0.   0.   0.   0.03 0.   0.   0.\n",
      "  0.03 0.   0.  ]\n",
      " [0.01 0.   0.   0.02 0.   0.   0.   0.   0.01 0.   0.   0.02 0.   0.\n",
      "  0.   0.   0.   0.   0.05 0.   0.   0.01 0.   0.   0.   0.   0.   0.01\n",
      "  0.02 0.   0.01 0.   0.   0.   0.   0.   0.   0.   0.   0.   0.   0.01\n",
      "  0.01 0.   0.   0.   0.   0.   0.   0.   0.   0.   0.   0.   0.   0.\n",
      "  0.02 0.02 0.   0.65 0.   0.   0.   0.   0.   0.   0.   0.04 0.   0.\n",
      "  0.   0.   0.01 0.   0.   0.   0.01 0.01 0.   0.   0.   0.   0.02 0.\n",
      "  0.01 0.   0.   0.   0.   0.01 0.   0.   0.   0.   0.   0.   0.01 0.\n",
      "  0.01 0.   0.  ]\n",
      " [0.   0.   0.   0.   0.   0.   0.   0.   0.   0.   0.   0.   0.   0.\n",
      "  0.   0.01 0.   0.   0.01 0.   0.   0.   0.02 0.   0.09 0.   0.   0.01\n",
      "  0.   0.   0.   0.   0.   0.   0.   0.   0.   0.   0.   0.   0.   0.\n",
      "  0.   0.   0.   0.   0.   0.   0.   0.   0.   0.   0.   0.   0.01 0.\n",
      "  0.   0.01 0.01 0.   0.79 0.   0.   0.   0.01 0.   0.   0.   0.   0.\n",
      "  0.   0.   0.01 0.01 0.   0.   0.   0.   0.   0.   0.   0.   0.   0.\n",
      "  0.   0.   0.   0.   0.   0.   0.   0.   0.   0.   0.   0.   0.   0.\n",
      "  0.01 0.   0.  ]\n",
      " [0.   0.   0.   0.   0.   0.   0.   0.   0.   0.   0.01 0.   0.   0.\n",
      "  0.   0.02 0.   0.   0.   0.   0.   0.   0.   0.   0.   0.02 0.   0.\n",
      "  0.   0.   0.   0.   0.   0.   0.   0.   0.   0.   0.   0.   0.01 0.\n",
      "  0.   0.   0.   0.   0.   0.   0.01 0.   0.   0.01 0.   0.01 0.   0.01\n",
      "  0.   0.   0.   0.   0.   0.88 0.   0.   0.   0.   0.   0.   0.   0.\n",
      "  0.   0.   0.   0.   0.   0.   0.   0.   0.   0.   0.   0.   0.   0.\n",
      "  0.   0.   0.   0.   0.   0.   0.   0.   0.   0.   0.   0.01 0.   0.\n",
      "  0.   0.01 0.  ]\n",
      " [0.   0.   0.   0.   0.   0.   0.   0.   0.   0.   0.   0.   0.   0.\n",
      "  0.   0.04 0.   0.   0.   0.   0.   0.   0.   0.   0.   0.   0.01 0.01\n",
      "  0.   0.   0.01 0.   0.   0.   0.   0.   0.   0.   0.   0.   0.   0.\n",
      "  0.   0.01 0.01 0.02 0.02 0.03 0.   0.   0.   0.   0.   0.   0.   0.\n",
      "  0.   0.02 0.   0.   0.   0.   0.74 0.   0.   0.   0.   0.01 0.   0.\n",
      "  0.   0.01 0.   0.   0.   0.   0.   0.   0.   0.   0.   0.   0.   0.\n",
      "  0.03 0.   0.01 0.   0.   0.   0.   0.01 0.   0.01 0.   0.   0.   0.\n",
      "  0.   0.   0.  ]\n",
      " [0.01 0.   0.   0.   0.   0.   0.   0.   0.   0.   0.   0.   0.01 0.\n",
      "  0.   0.   0.01 0.   0.   0.   0.   0.   0.   0.   0.   0.   0.   0.\n",
      "  0.   0.02 0.   0.01 0.   0.   0.   0.   0.   0.   0.   0.   0.   0.\n",
      "  0.   0.   0.   0.   0.   0.   0.   0.   0.   0.   0.   0.   0.   0.\n",
      "  0.   0.01 0.01 0.   0.   0.   0.   0.91 0.   0.   0.   0.   0.   0.\n",
      "  0.   0.   0.   0.   0.   0.   0.   0.   0.   0.   0.   0.   0.   0.\n",
      "  0.   0.   0.   0.   0.   0.   0.   0.   0.   0.   0.   0.01 0.   0.\n",
      "  0.   0.   0.  ]\n",
      " [0.   0.   0.   0.   0.   0.   0.   0.   0.   0.   0.   0.   0.   0.\n",
      "  0.   0.   0.   0.   0.   0.   0.   0.   0.   0.   0.01 0.   0.   0.\n",
      "  0.   0.   0.   0.   0.   0.   0.   0.   0.   0.   0.   0.   0.   0.\n",
      "  0.   0.   0.   0.   0.   0.   0.   0.   0.   0.01 0.   0.   0.   0.\n",
      "  0.   0.   0.   0.   0.   0.   0.   0.   0.89 0.   0.   0.   0.   0.\n",
      "  0.   0.   0.   0.   0.02 0.06 0.   0.   0.   0.   0.   0.01 0.   0.\n",
      "  0.   0.   0.   0.   0.   0.   0.   0.   0.   0.   0.   0.   0.   0.\n",
      "  0.   0.   0.  ]\n",
      " [0.   0.   0.   0.   0.   0.   0.   0.   0.   0.   0.   0.   0.   0.\n",
      "  0.   0.01 0.02 0.   0.   0.   0.   0.   0.   0.   0.02 0.   0.   0.\n",
      "  0.   0.   0.   0.   0.   0.   0.   0.   0.   0.   0.   0.   0.   0.\n",
      "  0.   0.01 0.   0.   0.   0.   0.02 0.   0.   0.   0.01 0.   0.   0.\n",
      "  0.   0.01 0.01 0.   0.   0.   0.   0.   0.   0.83 0.   0.   0.   0.03\n",
      "  0.   0.02 0.   0.   0.   0.01 0.   0.   0.   0.   0.   0.   0.   0.\n",
      "  0.   0.   0.   0.   0.   0.   0.   0.   0.   0.   0.   0.   0.   0.\n",
      "  0.   0.   0.  ]\n",
      " [0.   0.   0.   0.01 0.01 0.   0.   0.   0.   0.   0.   0.02 0.   0.\n",
      "  0.   0.02 0.   0.   0.   0.01 0.   0.   0.   0.   0.   0.   0.   0.\n",
      "  0.   0.   0.   0.   0.   0.   0.   0.   0.   0.   0.   0.   0.01 0.\n",
      "  0.   0.   0.02 0.   0.   0.   0.03 0.   0.   0.06 0.01 0.   0.   0.\n",
      "  0.01 0.   0.   0.   0.   0.   0.   0.   0.   0.   0.71 0.   0.   0.\n",
      "  0.   0.01 0.   0.   0.01 0.   0.   0.   0.   0.   0.   0.   0.   0.\n",
      "  0.   0.   0.   0.   0.   0.   0.   0.   0.   0.   0.   0.   0.05 0.\n",
      "  0.   0.01 0.  ]\n",
      " [0.   0.   0.   0.   0.   0.01 0.   0.   0.   0.01 0.   0.01 0.   0.\n",
      "  0.   0.   0.   0.   0.01 0.   0.   0.   0.   0.   0.   0.01 0.   0.\n",
      "  0.   0.01 0.   0.   0.   0.   0.   0.01 0.   0.   0.01 0.   0.   0.\n",
      "  0.01 0.   0.01 0.   0.   0.   0.01 0.   0.01 0.03 0.   0.01 0.   0.\n",
      "  0.02 0.03 0.   0.   0.   0.   0.   0.   0.   0.   0.01 0.73 0.   0.\n",
      "  0.   0.   0.   0.   0.01 0.   0.02 0.   0.   0.   0.   0.   0.   0.\n",
      "  0.   0.   0.   0.   0.   0.   0.   0.   0.   0.01 0.   0.   0.   0.\n",
      "  0.   0.01 0.  ]\n",
      " [0.01 0.   0.   0.   0.   0.   0.   0.   0.   0.   0.   0.   0.   0.\n",
      "  0.   0.   0.   0.   0.   0.   0.   0.   0.   0.   0.   0.   0.   0.\n",
      "  0.   0.   0.   0.   0.   0.   0.   0.   0.   0.   0.   0.   0.01 0.\n",
      "  0.   0.07 0.   0.   0.   0.   0.   0.   0.   0.   0.   0.   0.   0.\n",
      "  0.   0.   0.01 0.   0.   0.   0.   0.   0.   0.   0.01 0.   0.87 0.\n",
      "  0.   0.   0.   0.   0.   0.   0.   0.   0.   0.   0.   0.   0.   0.\n",
      "  0.   0.01 0.   0.   0.   0.   0.   0.01 0.   0.   0.   0.   0.   0.\n",
      "  0.   0.   0.  ]\n",
      " [0.   0.   0.   0.   0.   0.   0.01 0.   0.   0.   0.   0.   0.   0.\n",
      "  0.   0.   0.   0.   0.   0.   0.   0.   0.   0.   0.   0.   0.01 0.\n",
      "  0.   0.   0.   0.   0.   0.   0.   0.   0.01 0.   0.   0.   0.   0.\n",
      "  0.   0.   0.   0.   0.   0.01 0.   0.   0.   0.   0.   0.   0.   0.\n",
      "  0.   0.   0.01 0.   0.   0.   0.   0.   0.   0.   0.   0.   0.   0.91\n",
      "  0.   0.   0.   0.   0.   0.   0.   0.01 0.   0.   0.   0.   0.   0.\n",
      "  0.   0.   0.   0.01 0.   0.   0.   0.   0.   0.   0.   0.01 0.   0.\n",
      "  0.   0.01 0.  ]\n",
      " [0.   0.   0.   0.   0.   0.   0.   0.   0.   0.   0.   0.   0.   0.\n",
      "  0.   0.03 0.   0.   0.02 0.   0.   0.   0.   0.   0.   0.   0.   0.\n",
      "  0.   0.   0.   0.   0.   0.   0.   0.   0.   0.   0.   0.   0.01 0.\n",
      "  0.   0.   0.13 0.   0.   0.   0.01 0.   0.   0.   0.   0.   0.   0.\n",
      "  0.   0.   0.   0.   0.   0.   0.   0.   0.   0.   0.01 0.   0.   0.\n",
      "  0.73 0.   0.   0.   0.   0.01 0.   0.   0.   0.   0.   0.   0.   0.\n",
      "  0.   0.   0.   0.   0.   0.   0.   0.02 0.   0.01 0.   0.   0.02 0.\n",
      "  0.   0.   0.  ]\n",
      " [0.   0.   0.   0.   0.01 0.   0.   0.   0.   0.   0.   0.   0.   0.\n",
      "  0.   0.01 0.   0.   0.02 0.   0.   0.   0.   0.   0.   0.   0.01 0.\n",
      "  0.   0.   0.   0.   0.   0.   0.   0.   0.   0.   0.   0.   0.   0.\n",
      "  0.   0.   0.09 0.   0.   0.   0.   0.   0.   0.   0.   0.   0.   0.\n",
      "  0.   0.01 0.   0.   0.   0.   0.   0.   0.   0.   0.   0.   0.   0.\n",
      "  0.   0.82 0.   0.   0.   0.   0.   0.   0.   0.   0.   0.   0.   0.\n",
      "  0.   0.   0.   0.02 0.   0.   0.   0.   0.   0.01 0.   0.   0.   0.\n",
      "  0.   0.   0.  ]\n",
      " [0.01 0.   0.   0.   0.   0.   0.   0.   0.   0.   0.   0.   0.   0.01\n",
      "  0.   0.   0.   0.   0.   0.   0.   0.   0.   0.   0.   0.   0.   0.\n",
      "  0.   0.   0.   0.01 0.   0.   0.   0.   0.   0.   0.   0.   0.   0.\n",
      "  0.05 0.   0.   0.01 0.   0.   0.   0.   0.   0.   0.   0.   0.   0.\n",
      "  0.   0.   0.01 0.01 0.   0.   0.   0.01 0.   0.   0.   0.   0.   0.\n",
      "  0.   0.   0.84 0.02 0.   0.   0.   0.   0.   0.   0.   0.   0.   0.\n",
      "  0.   0.   0.   0.   0.   0.   0.   0.   0.   0.   0.   0.   0.   0.\n",
      "  0.02 0.   0.  ]\n",
      " [0.   0.   0.   0.01 0.   0.04 0.01 0.   0.01 0.   0.   0.   0.02 0.01\n",
      "  0.   0.   0.01 0.02 0.   0.   0.   0.   0.04 0.   0.   0.   0.   0.\n",
      "  0.   0.   0.   0.   0.   0.   0.   0.   0.   0.   0.   0.   0.   0.01\n",
      "  0.   0.   0.   0.   0.   0.   0.01 0.   0.   0.   0.01 0.   0.   0.\n",
      "  0.   0.01 0.01 0.   0.   0.   0.   0.   0.   0.   0.   0.   0.   0.\n",
      "  0.   0.   0.   0.73 0.01 0.   0.   0.   0.   0.   0.   0.   0.   0.\n",
      "  0.   0.   0.01 0.   0.   0.   0.   0.   0.01 0.   0.   0.   0.   0.\n",
      "  0.02 0.   0.  ]\n",
      " [0.01 0.   0.   0.   0.   0.   0.   0.   0.   0.01 0.   0.   0.   0.\n",
      "  0.   0.01 0.01 0.   0.01 0.   0.   0.   0.   0.   0.   0.   0.   0.\n",
      "  0.   0.   0.   0.01 0.01 0.   0.   0.   0.   0.   0.   0.   0.   0.\n",
      "  0.   0.   0.   0.   0.   0.   0.   0.   0.   0.   0.   0.   0.   0.\n",
      "  0.   0.   0.   0.   0.   0.   0.   0.   0.   0.   0.   0.   0.   0.\n",
      "  0.   0.   0.   0.   0.92 0.   0.   0.   0.   0.   0.   0.   0.   0.\n",
      "  0.   0.   0.   0.   0.   0.   0.   0.   0.01 0.   0.   0.   0.   0.\n",
      "  0.   0.   0.  ]\n",
      " [0.   0.   0.   0.   0.   0.   0.   0.   0.   0.   0.   0.   0.   0.\n",
      "  0.   0.   0.   0.   0.   0.   0.   0.   0.   0.   0.   0.   0.   0.\n",
      "  0.   0.   0.   0.   0.   0.   0.   0.   0.   0.   0.   0.   0.   0.\n",
      "  0.   0.   0.   0.   0.   0.   0.   0.   0.   0.   0.   0.   0.   0.\n",
      "  0.   0.   0.   0.   0.   0.   0.   0.   0.01 0.   0.   0.   0.   0.\n",
      "  0.01 0.   0.   0.   0.   0.97 0.   0.   0.   0.   0.   0.   0.   0.\n",
      "  0.   0.   0.   0.   0.   0.   0.   0.   0.   0.   0.   0.   0.   0.\n",
      "  0.01 0.   0.  ]\n",
      " [0.   0.   0.01 0.   0.   0.   0.   0.   0.   0.   0.04 0.   0.   0.\n",
      "  0.   0.   0.   0.01 0.   0.01 0.   0.   0.   0.   0.   0.   0.   0.\n",
      "  0.   0.   0.   0.01 0.   0.   0.   0.   0.   0.   0.   0.   0.   0.\n",
      "  0.03 0.   0.   0.01 0.03 0.   0.01 0.   0.   0.   0.   0.   0.   0.\n",
      "  0.02 0.   0.   0.02 0.   0.   0.01 0.   0.   0.   0.   0.04 0.   0.\n",
      "  0.   0.01 0.   0.   0.01 0.   0.68 0.   0.   0.   0.   0.   0.   0.\n",
      "  0.02 0.01 0.   0.   0.   0.   0.   0.   0.   0.01 0.   0.   0.   0.\n",
      "  0.01 0.   0.  ]\n",
      " [0.   0.01 0.   0.01 0.   0.01 0.   0.   0.   0.   0.   0.   0.   0.\n",
      "  0.01 0.04 0.   0.   0.01 0.   0.01 0.   0.   0.   0.   0.   0.02 0.\n",
      "  0.   0.   0.   0.   0.   0.   0.   0.   0.01 0.05 0.   0.   0.   0.\n",
      "  0.03 0.   0.   0.   0.   0.   0.01 0.   0.07 0.   0.01 0.01 0.   0.\n",
      "  0.01 0.   0.   0.   0.   0.   0.   0.   0.   0.   0.   0.   0.   0.\n",
      "  0.   0.01 0.   0.   0.02 0.   0.   0.48 0.   0.04 0.01 0.   0.   0.\n",
      "  0.01 0.   0.   0.01 0.   0.01 0.   0.   0.   0.09 0.   0.   0.   0.\n",
      "  0.   0.   0.  ]\n",
      " [0.   0.   0.   0.   0.01 0.   0.   0.   0.   0.01 0.   0.01 0.   0.\n",
      "  0.   0.03 0.   0.   0.   0.   0.   0.   0.   0.   0.   0.01 0.   0.\n",
      "  0.   0.   0.   0.   0.   0.   0.   0.   0.   0.   0.   0.   0.06 0.\n",
      "  0.   0.01 0.   0.   0.   0.01 0.   0.   0.01 0.   0.   0.   0.   0.01\n",
      "  0.01 0.   0.   0.   0.   0.   0.01 0.   0.   0.   0.   0.   0.   0.\n",
      "  0.02 0.   0.   0.   0.   0.   0.   0.01 0.76 0.   0.01 0.   0.   0.\n",
      "  0.   0.   0.   0.   0.   0.   0.   0.   0.   0.01 0.   0.   0.   0.\n",
      "  0.   0.   0.  ]\n",
      " [0.   0.   0.   0.   0.   0.   0.   0.   0.   0.   0.   0.   0.   0.\n",
      "  0.   0.   0.   0.   0.01 0.   0.01 0.   0.   0.   0.   0.   0.   0.\n",
      "  0.   0.   0.   0.01 0.   0.   0.   0.   0.01 0.01 0.   0.   0.   0.\n",
      "  0.01 0.   0.   0.   0.   0.   0.   0.   0.   0.   0.   0.   0.   0.\n",
      "  0.   0.   0.   0.   0.   0.   0.   0.   0.   0.   0.   0.   0.   0.\n",
      "  0.   0.   0.   0.   0.   0.01 0.   0.01 0.   0.8  0.   0.   0.   0.\n",
      "  0.   0.   0.   0.   0.   0.   0.   0.   0.   0.12 0.   0.   0.   0.\n",
      "  0.   0.   0.  ]\n",
      " [0.   0.01 0.   0.   0.02 0.   0.   0.   0.   0.   0.   0.   0.   0.\n",
      "  0.   0.   0.   0.   0.   0.   0.   0.   0.   0.   0.   0.05 0.   0.\n",
      "  0.   0.   0.   0.   0.   0.   0.   0.   0.02 0.   0.   0.   0.   0.\n",
      "  0.   0.   0.01 0.   0.   0.   0.   0.   0.   0.   0.   0.03 0.   0.01\n",
      "  0.   0.   0.   0.   0.   0.01 0.   0.   0.   0.   0.02 0.   0.   0.\n",
      "  0.   0.   0.   0.   0.   0.   0.   0.   0.   0.   0.78 0.   0.   0.\n",
      "  0.   0.   0.01 0.   0.   0.   0.   0.   0.   0.   0.   0.01 0.02 0.\n",
      "  0.   0.   0.  ]\n",
      " [0.   0.   0.   0.   0.   0.   0.   0.01 0.   0.   0.   0.   0.   0.\n",
      "  0.   0.   0.   0.   0.03 0.   0.   0.   0.   0.   0.   0.   0.   0.\n",
      "  0.   0.   0.   0.   0.   0.   0.   0.   0.   0.   0.   0.   0.   0.\n",
      "  0.   0.   0.   0.   0.   0.   0.   0.   0.   0.01 0.01 0.   0.   0.\n",
      "  0.01 0.   0.   0.   0.   0.   0.   0.   0.   0.   0.   0.   0.   0.\n",
      "  0.   0.   0.   0.   0.01 0.23 0.   0.   0.   0.   0.   0.66 0.   0.\n",
      "  0.   0.   0.   0.   0.   0.   0.   0.01 0.01 0.   0.   0.   0.01 0.\n",
      "  0.   0.   0.  ]\n",
      " [0.   0.   0.01 0.03 0.   0.01 0.   0.   0.   0.01 0.   0.01 0.01 0.02\n",
      "  0.   0.07 0.   0.   0.04 0.   0.   0.   0.01 0.   0.02 0.   0.   0.\n",
      "  0.   0.   0.   0.   0.01 0.   0.   0.   0.   0.   0.   0.   0.   0.\n",
      "  0.   0.   0.   0.   0.   0.03 0.   0.   0.01 0.   0.   0.   0.   0.\n",
      "  0.01 0.01 0.   0.05 0.   0.   0.   0.   0.   0.   0.   0.   0.   0.01\n",
      "  0.   0.   0.   0.   0.   0.01 0.   0.   0.   0.   0.   0.   0.54 0.\n",
      "  0.02 0.   0.01 0.   0.   0.03 0.   0.01 0.   0.   0.   0.   0.   0.\n",
      "  0.   0.01 0.  ]\n",
      " [0.   0.   0.   0.   0.   0.   0.   0.   0.   0.   0.   0.   0.   0.\n",
      "  0.   0.   0.   0.   0.   0.   0.   0.   0.   0.   0.   0.   0.   0.\n",
      "  0.   0.02 0.   0.   0.   0.   0.   0.   0.   0.   0.   0.   0.   0.\n",
      "  0.   0.   0.   0.   0.   0.   0.   0.   0.   0.   0.   0.   0.   0.\n",
      "  0.   0.   0.01 0.   0.   0.   0.   0.   0.   0.   0.   0.   0.   0.\n",
      "  0.   0.   0.   0.   0.   0.   0.   0.   0.   0.   0.   0.   0.   0.9\n",
      "  0.   0.   0.   0.   0.   0.   0.   0.   0.   0.   0.03 0.   0.   0.\n",
      "  0.04 0.   0.  ]\n",
      " [0.   0.   0.   0.02 0.01 0.   0.   0.   0.01 0.   0.   0.02 0.   0.\n",
      "  0.   0.01 0.   0.   0.   0.   0.   0.   0.   0.   0.   0.   0.01 0.\n",
      "  0.   0.   0.   0.   0.   0.   0.   0.   0.   0.   0.   0.   0.   0.\n",
      "  0.   0.   0.19 0.   0.01 0.   0.   0.   0.02 0.   0.   0.   0.   0.\n",
      "  0.   0.   0.   0.   0.   0.   0.   0.   0.   0.   0.   0.   0.   0.\n",
      "  0.   0.04 0.   0.   0.   0.01 0.   0.   0.   0.   0.   0.   0.01 0.\n",
      "  0.61 0.   0.   0.   0.   0.02 0.   0.   0.   0.   0.   0.01 0.   0.\n",
      "  0.   0.   0.  ]\n",
      " [0.   0.   0.   0.   0.   0.   0.   0.   0.   0.   0.   0.   0.   0.\n",
      "  0.   0.   0.   0.   0.   0.01 0.   0.   0.   0.   0.   0.   0.02 0.\n",
      "  0.   0.   0.   0.02 0.   0.   0.   0.   0.   0.   0.   0.   0.   0.\n",
      "  0.   0.   0.   0.   0.   0.   0.   0.   0.   0.01 0.02 0.   0.   0.\n",
      "  0.   0.04 0.   0.   0.   0.   0.   0.   0.   0.   0.   0.   0.   0.\n",
      "  0.   0.   0.   0.   0.   0.   0.   0.   0.   0.   0.   0.   0.   0.\n",
      "  0.   0.86 0.   0.   0.   0.   0.   0.   0.   0.   0.   0.   0.01 0.\n",
      "  0.   0.01 0.  ]\n",
      " [0.   0.   0.   0.   0.   0.   0.   0.   0.   0.   0.   0.   0.   0.\n",
      "  0.   0.01 0.   0.   0.   0.   0.   0.   0.   0.   0.   0.   0.   0.\n",
      "  0.   0.   0.   0.   0.   0.   0.   0.   0.   0.   0.   0.01 0.   0.\n",
      "  0.   0.   0.   0.   0.   0.   0.   0.   0.   0.   0.   0.   0.   0.\n",
      "  0.   0.   0.   0.   0.   0.   0.   0.   0.   0.   0.   0.   0.   0.\n",
      "  0.   0.01 0.   0.   0.   0.   0.   0.   0.   0.   0.   0.   0.   0.\n",
      "  0.   0.   0.95 0.   0.   0.   0.   0.   0.   0.   0.   0.02 0.   0.\n",
      "  0.   0.   0.  ]\n",
      " [0.   0.   0.   0.01 0.01 0.03 0.   0.   0.   0.   0.   0.01 0.   0.04\n",
      "  0.   0.06 0.   0.   0.   0.   0.   0.   0.01 0.   0.01 0.   0.06 0.\n",
      "  0.   0.   0.01 0.   0.   0.   0.01 0.01 0.   0.   0.01 0.02 0.   0.\n",
      "  0.   0.   0.01 0.   0.   0.01 0.   0.   0.03 0.   0.   0.   0.   0.\n",
      "  0.   0.   0.   0.   0.   0.   0.   0.01 0.   0.   0.   0.   0.   0.\n",
      "  0.   0.   0.   0.   0.   0.   0.   0.   0.   0.   0.   0.   0.   0.\n",
      "  0.01 0.   0.01 0.57 0.   0.03 0.   0.   0.   0.   0.   0.01 0.   0.\n",
      "  0.   0.01 0.  ]\n",
      " [0.   0.   0.   0.   0.   0.01 0.   0.   0.   0.   0.   0.02 0.   0.\n",
      "  0.   0.   0.   0.   0.   0.   0.   0.   0.   0.   0.   0.   0.   0.\n",
      "  0.   0.   0.   0.   0.   0.01 0.   0.   0.   0.   0.   0.   0.   0.\n",
      "  0.   0.   0.01 0.   0.   0.   0.01 0.   0.   0.02 0.   0.   0.   0.\n",
      "  0.   0.   0.   0.   0.   0.   0.   0.   0.   0.   0.   0.   0.   0.\n",
      "  0.   0.   0.   0.   0.01 0.   0.   0.   0.   0.   0.   0.   0.   0.\n",
      "  0.   0.   0.01 0.   0.88 0.   0.   0.   0.   0.   0.   0.   0.01 0.\n",
      "  0.   0.01 0.  ]\n",
      " [0.   0.   0.   0.   0.   0.   0.   0.   0.   0.   0.   0.   0.   0.01\n",
      "  0.   0.09 0.   0.   0.05 0.   0.   0.01 0.   0.   0.01 0.   0.02 0.\n",
      "  0.01 0.   0.   0.   0.   0.   0.   0.   0.   0.   0.   0.   0.   0.\n",
      "  0.   0.   0.02 0.   0.   0.   0.   0.   0.   0.   0.   0.   0.   0.\n",
      "  0.01 0.01 0.   0.   0.   0.   0.   0.   0.   0.   0.   0.01 0.   0.01\n",
      "  0.   0.01 0.   0.   0.   0.   0.   0.01 0.   0.   0.   0.   0.01 0.\n",
      "  0.04 0.   0.   0.   0.   0.67 0.   0.   0.   0.   0.   0.   0.   0.\n",
      "  0.   0.   0.  ]\n",
      " [0.   0.   0.   0.01 0.   0.   0.   0.   0.   0.   0.   0.   0.   0.\n",
      "  0.   0.   0.   0.   0.01 0.   0.   0.   0.   0.   0.   0.   0.   0.\n",
      "  0.   0.   0.   0.   0.   0.   0.   0.   0.   0.   0.   0.   0.   0.\n",
      "  0.   0.   0.01 0.   0.   0.   0.   0.   0.   0.   0.   0.   0.   0.\n",
      "  0.   0.01 0.   0.01 0.   0.   0.   0.   0.   0.   0.   0.   0.   0.\n",
      "  0.   0.   0.   0.   0.   0.   0.   0.   0.   0.   0.   0.   0.   0.\n",
      "  0.01 0.   0.   0.   0.   0.   0.88 0.06 0.   0.   0.   0.   0.   0.\n",
      "  0.   0.   0.  ]\n",
      " [0.   0.   0.   0.   0.01 0.   0.   0.   0.   0.   0.   0.   0.   0.\n",
      "  0.   0.01 0.   0.   0.   0.   0.   0.   0.   0.   0.   0.   0.   0.\n",
      "  0.   0.   0.   0.   0.   0.   0.   0.   0.   0.   0.   0.   0.02 0.\n",
      "  0.   0.   0.   0.   0.   0.   0.   0.   0.   0.   0.   0.   0.   0.\n",
      "  0.   0.01 0.   0.   0.   0.   0.   0.   0.   0.   0.   0.   0.   0.\n",
      "  0.02 0.   0.   0.   0.   0.   0.   0.   0.   0.   0.   0.   0.01 0.\n",
      "  0.   0.   0.   0.   0.   0.   0.03 0.89 0.   0.   0.   0.   0.   0.\n",
      "  0.   0.   0.  ]\n",
      " [0.   0.   0.   0.   0.   0.   0.   0.   0.   0.   0.   0.01 0.   0.\n",
      "  0.   0.   0.   0.   0.01 0.   0.   0.   0.   0.   0.   0.   0.   0.\n",
      "  0.   0.   0.   0.   0.   0.   0.   0.   0.   0.   0.   0.   0.   0.\n",
      "  0.   0.02 0.   0.   0.01 0.   0.03 0.   0.   0.   0.03 0.   0.   0.\n",
      "  0.   0.   0.   0.   0.   0.   0.   0.   0.   0.   0.   0.   0.   0.\n",
      "  0.   0.   0.   0.   0.03 0.   0.   0.   0.   0.   0.   0.   0.   0.\n",
      "  0.   0.02 0.   0.   0.   0.   0.   0.   0.84 0.   0.   0.   0.   0.\n",
      "  0.   0.   0.  ]\n",
      " [0.   0.03 0.   0.01 0.01 0.   0.   0.   0.01 0.   0.   0.   0.   0.\n",
      "  0.   0.   0.   0.   0.01 0.   0.   0.01 0.   0.   0.   0.   0.   0.\n",
      "  0.   0.   0.   0.   0.   0.   0.   0.   0.01 0.08 0.   0.   0.   0.\n",
      "  0.01 0.01 0.   0.   0.   0.   0.01 0.   0.01 0.   0.   0.   0.   0.\n",
      "  0.   0.   0.   0.01 0.   0.   0.   0.   0.   0.   0.   0.   0.   0.\n",
      "  0.   0.   0.   0.   0.03 0.   0.   0.07 0.01 0.13 0.   0.   0.   0.\n",
      "  0.   0.   0.   0.   0.   0.   0.   0.   0.   0.54 0.   0.   0.   0.\n",
      "  0.   0.   0.  ]\n",
      " [0.   0.   0.   0.   0.   0.   0.01 0.   0.   0.   0.   0.   0.   0.\n",
      "  0.   0.01 0.   0.01 0.   0.   0.   0.   0.01 0.   0.   0.   0.   0.\n",
      "  0.   0.   0.   0.   0.   0.   0.02 0.   0.   0.   0.   0.   0.   0.\n",
      "  0.   0.   0.   0.   0.01 0.   0.   0.   0.   0.   0.   0.   0.   0.\n",
      "  0.01 0.   0.02 0.   0.   0.   0.   0.   0.   0.   0.   0.   0.   0.\n",
      "  0.   0.   0.   0.03 0.   0.   0.   0.   0.   0.   0.   0.   0.   0.\n",
      "  0.   0.   0.   0.   0.   0.   0.   0.   0.   0.   0.87 0.   0.   0.\n",
      "  0.   0.   0.  ]\n",
      " [0.   0.   0.01 0.   0.   0.   0.   0.01 0.   0.   0.   0.   0.   0.\n",
      "  0.   0.   0.01 0.   0.   0.   0.   0.   0.   0.   0.   0.   0.   0.\n",
      "  0.   0.   0.   0.01 0.   0.   0.   0.   0.   0.   0.   0.01 0.   0.\n",
      "  0.   0.   0.   0.   0.   0.   0.   0.   0.   0.   0.   0.   0.   0.\n",
      "  0.   0.   0.   0.   0.   0.01 0.   0.   0.   0.   0.   0.   0.   0.\n",
      "  0.   0.   0.   0.   0.   0.01 0.   0.   0.   0.   0.   0.   0.   0.\n",
      "  0.   0.   0.04 0.   0.01 0.   0.   0.   0.   0.   0.   0.85 0.   0.01\n",
      "  0.01 0.01 0.  ]\n",
      " [0.   0.01 0.   0.   0.   0.   0.   0.   0.   0.01 0.01 0.   0.   0.01\n",
      "  0.   0.04 0.   0.   0.   0.   0.   0.   0.   0.   0.   0.   0.01 0.\n",
      "  0.   0.   0.   0.01 0.   0.   0.   0.   0.04 0.   0.   0.   0.   0.\n",
      "  0.   0.   0.   0.   0.   0.   0.   0.   0.   0.   0.   0.   0.   0.\n",
      "  0.02 0.   0.   0.   0.   0.   0.01 0.   0.   0.   0.   0.   0.   0.\n",
      "  0.01 0.   0.   0.   0.   0.   0.   0.   0.   0.   0.   0.   0.   0.\n",
      "  0.   0.   0.   0.   0.   0.   0.   0.   0.   0.   0.   0.   0.81 0.\n",
      "  0.   0.01 0.  ]\n",
      " [0.   0.   0.01 0.01 0.   0.01 0.   0.   0.   0.   0.02 0.   0.   0.\n",
      "  0.   0.   0.   0.   0.01 0.   0.   0.   0.   0.   0.   0.   0.02 0.\n",
      "  0.   0.   0.   0.   0.   0.   0.   0.   0.01 0.   0.   0.   0.   0.\n",
      "  0.   0.   0.   0.   0.   0.   0.   0.   0.   0.   0.01 0.   0.   0.\n",
      "  0.   0.   0.   0.   0.   0.   0.   0.   0.   0.   0.   0.   0.   0.\n",
      "  0.01 0.   0.   0.   0.01 0.01 0.   0.   0.   0.   0.   0.   0.   0.\n",
      "  0.   0.   0.   0.01 0.   0.   0.   0.   0.   0.   0.   0.   0.   0.86\n",
      "  0.   0.   0.  ]\n",
      " [0.   0.   0.   0.   0.   0.   0.   0.   0.01 0.   0.01 0.   0.   0.\n",
      "  0.   0.   0.   0.   0.   0.   0.   0.01 0.03 0.   0.   0.   0.   0.\n",
      "  0.   0.   0.   0.   0.   0.   0.   0.   0.   0.   0.   0.   0.   0.\n",
      "  0.   0.   0.   0.   0.   0.   0.   0.   0.   0.   0.   0.   0.   0.\n",
      "  0.   0.   0.02 0.   0.   0.   0.   0.   0.   0.   0.   0.   0.   0.\n",
      "  0.   0.   0.   0.01 0.   0.   0.   0.   0.   0.   0.   0.   0.   0.01\n",
      "  0.   0.   0.   0.   0.   0.   0.   0.   0.   0.   0.02 0.   0.   0.\n",
      "  0.88 0.   0.  ]\n",
      " [0.   0.   0.   0.02 0.06 0.01 0.01 0.   0.   0.   0.01 0.   0.   0.\n",
      "  0.   0.06 0.   0.   0.   0.   0.   0.01 0.   0.   0.   0.   0.   0.01\n",
      "  0.   0.   0.   0.   0.   0.   0.   0.   0.   0.   0.   0.02 0.   0.\n",
      "  0.   0.   0.   0.   0.   0.   0.   0.   0.   0.   0.   0.   0.   0.\n",
      "  0.   0.   0.01 0.   0.   0.   0.   0.   0.   0.   0.   0.   0.   0.\n",
      "  0.   0.   0.   0.02 0.   0.   0.   0.01 0.   0.   0.   0.   0.   0.\n",
      "  0.   0.   0.01 0.   0.   0.   0.   0.   0.   0.02 0.   0.   0.   0.\n",
      "  0.   0.72 0.  ]\n",
      " [0.   0.   0.   0.   0.   0.   0.   0.   0.01 0.   0.01 0.   0.   0.03\n",
      "  0.   0.   0.01 0.   0.01 0.   0.   0.01 0.   0.   0.   0.   0.   0.\n",
      "  0.   0.   0.   0.   0.   0.   0.   0.   0.   0.   0.01 0.   0.   0.\n",
      "  0.03 0.   0.   0.02 0.   0.   0.01 0.   0.   0.   0.   0.   0.   0.\n",
      "  0.   0.01 0.   0.   0.   0.   0.   0.   0.   0.   0.   0.   0.   0.\n",
      "  0.   0.   0.   0.   0.   0.   0.   0.   0.   0.   0.   0.   0.   0.01\n",
      "  0.   0.   0.   0.   0.   0.   0.   0.   0.   0.01 0.01 0.   0.   0.01\n",
      "  0.01 0.   0.79]]\n"
     ]
    }
   ],
   "source": [
    "print(cm)"
   ]
  },
  {
   "cell_type": "code",
   "execution_count": 24,
   "metadata": {},
   "outputs": [
    {
     "name": "stdout",
     "output_type": "stream",
     "text": [
      "              precision    recall  f1-score   support\n",
      "\n",
      "           0       0.78      0.59      0.67       100\n",
      "           1       0.90      0.60      0.72       100\n",
      "           2       0.85      0.79      0.82       100\n",
      "           3       0.81      0.89      0.85       100\n",
      "           4       0.68      0.85      0.76       100\n",
      "           5       0.69      0.71      0.70       100\n",
      "           6       0.82      0.86      0.84       100\n",
      "           7       0.97      0.74      0.84       100\n",
      "           8       0.71      0.54      0.61       100\n",
      "           9       0.81      0.74      0.77       100\n",
      "          10       0.78      0.74      0.76       100\n",
      "          11       0.74      0.88      0.80       100\n",
      "          12       0.89      0.87      0.88       100\n",
      "          13       0.73      0.83      0.78       100\n",
      "          14       0.92      0.68      0.78       100\n",
      "          15       0.39      0.80      0.52       100\n",
      "          16       0.77      0.89      0.82       100\n",
      "          17       0.87      0.72      0.79       100\n",
      "          18       0.64      0.77      0.70       100\n",
      "          19       0.90      0.69      0.78       100\n",
      "          20       0.88      0.83      0.86       100\n",
      "          21       0.70      0.54      0.61       100\n",
      "          22       0.66      0.59      0.62       100\n",
      "          23       0.98      0.82      0.89       100\n",
      "          24       0.82      0.90      0.86       100\n",
      "          25       0.74      0.89      0.81       100\n",
      "          26       0.70      0.83      0.76       100\n",
      "          27       0.91      0.90      0.90       100\n",
      "          28       0.87      0.77      0.81       100\n",
      "          29       0.88      0.87      0.87       100\n",
      "          30       0.89      0.91      0.90       100\n",
      "          31       0.80      0.78      0.79       100\n",
      "          32       0.97      0.88      0.92       100\n",
      "          33       0.97      0.96      0.96       100\n",
      "          34       0.91      0.91      0.91       100\n",
      "          35       0.96      0.79      0.87       100\n",
      "          36       0.64      0.84      0.72       100\n",
      "          37       0.76      0.60      0.67       100\n",
      "          38       0.88      0.83      0.86       100\n",
      "          39       0.73      0.55      0.63       100\n",
      "          40       0.78      0.92      0.84       100\n",
      "          41       0.92      0.81      0.86       100\n",
      "          42       0.61      0.91      0.73       100\n",
      "          43       0.73      0.86      0.79       100\n",
      "          44       0.57      0.95      0.71       100\n",
      "          45       0.79      0.87      0.83       100\n",
      "          46       0.77      0.86      0.82       100\n",
      "          47       0.82      0.56      0.67       100\n",
      "          48       0.62      0.89      0.73       100\n",
      "          49       0.90      0.66      0.76       100\n",
      "          50       0.67      0.78      0.72       100\n",
      "          51       0.71      0.94      0.81       100\n",
      "          52       0.84      0.86      0.85       100\n",
      "          53       0.87      0.84      0.85       100\n",
      "          54       0.98      0.91      0.94       100\n",
      "          55       0.95      0.76      0.84       100\n",
      "          56       0.73      0.77      0.75       100\n",
      "          57       0.61      0.83      0.71       100\n",
      "          58       0.61      0.72      0.66       100\n",
      "          59       0.82      0.65      0.73       100\n",
      "          60       0.95      0.79      0.86       100\n",
      "          61       0.96      0.88      0.92       100\n",
      "          62       0.83      0.74      0.78       100\n",
      "          63       0.92      0.91      0.91       100\n",
      "          64       0.94      0.89      0.91       100\n",
      "          65       0.99      0.83      0.90       100\n",
      "          66       0.79      0.71      0.75       100\n",
      "          67       0.75      0.73      0.74       100\n",
      "          68       0.90      0.87      0.88       100\n",
      "          69       0.93      0.91      0.92       100\n",
      "          70       0.90      0.73      0.81       100\n",
      "          71       0.85      0.82      0.84       100\n",
      "          72       0.88      0.84      0.86       100\n",
      "          73       0.74      0.73      0.73       100\n",
      "          74       0.67      0.92      0.77       100\n",
      "          75       0.70      0.97      0.81       100\n",
      "          76       0.93      0.68      0.79       100\n",
      "          77       0.63      0.48      0.55       100\n",
      "          78       0.99      0.76      0.86       100\n",
      "          79       0.74      0.80      0.77       100\n",
      "          80       0.95      0.78      0.86       100\n",
      "          81       0.94      0.66      0.78       100\n",
      "          82       0.79      0.54      0.64       100\n",
      "          83       0.76      0.90      0.82       100\n",
      "          84       0.72      0.61      0.66       100\n",
      "          85       0.86      0.86      0.86       100\n",
      "          86       0.79      0.95      0.86       100\n",
      "          87       0.86      0.57      0.69       100\n",
      "          88       0.98      0.88      0.93       100\n",
      "          89       0.83      0.67      0.74       100\n",
      "          90       0.97      0.88      0.92       100\n",
      "          91       0.86      0.89      0.87       100\n",
      "          92       0.95      0.84      0.89       100\n",
      "          93       0.46      0.54      0.50       100\n",
      "          94       0.79      0.87      0.83       100\n",
      "          95       0.86      0.85      0.85       100\n",
      "          96       0.76      0.81      0.78       100\n",
      "          97       0.96      0.86      0.91       100\n",
      "          98       0.65      0.88      0.75       100\n",
      "          99       0.54      0.72      0.62       100\n",
      "         100       1.00      0.79      0.88       100\n",
      "\n",
      "    accuracy                           0.79     10100\n",
      "   macro avg       0.81      0.79      0.79     10100\n",
      "weighted avg       0.81      0.79      0.79     10100\n",
      "\n"
     ]
    }
   ],
   "source": [
    "print(classification_report(nas_test_labels2, nas_predicted2))"
   ]
  },
  {
   "cell_type": "code",
   "execution_count": 26,
   "metadata": {},
   "outputs": [],
   "source": [
    "#load label dictionary\n",
    "pkl_file=open('label_dictionary.pkl','rb')\n",
    "decoder=pickle.load(pkl_file)\n",
    "pkl_file.close()"
   ]
  },
  {
   "cell_type": "markdown",
   "metadata": {},
   "source": [
    "## Top 3 and Lowest 3 accuracy scores and their respective classes for NASNet"
   ]
  },
  {
   "cell_type": "code",
   "execution_count": 27,
   "metadata": {},
   "outputs": [
    {
     "name": "stdout",
     "output_type": "stream",
     "text": [
      "The 3 lowest categories with precision accuracy are  ceviche  with 39%,  steak  with 46%, and tuna_tartare  with 54%.\n"
     ]
    }
   ],
   "source": [
    "print('The 3 lowest categories with precision accuracy are ',decoder[15], ' with 39%, ', \n",
    "      decoder[93], ' with 46%, and', decoder[99], ' with 54%.')"
   ]
  },
  {
   "cell_type": "code",
   "execution_count": 28,
   "metadata": {},
   "outputs": [
    {
     "name": "stdout",
     "output_type": "stream",
     "text": [
      "The 4 highest categories with precision accuracy are  waffles  with 100%,  churros  with 98%  hot_and_sour_soup  with 98%, and seaweed_salad  with 98%.\n"
     ]
    }
   ],
   "source": [
    "print('The 4 highest categories with precision accuracy are ',decoder[100], ' with 100%, ', \n",
    "      decoder[23], ' with 98% ', decoder[54], ' with 98%, and', decoder[88], ' with 98%.')"
   ]
  },
  {
   "cell_type": "markdown",
   "metadata": {},
   "source": [
    "## Looking deeper into misclassifications"
   ]
  },
  {
   "cell_type": "code",
   "execution_count": 109,
   "metadata": {},
   "outputs": [
    {
     "name": "stdout",
     "output_type": "stream",
     "text": [
      "0.23\n",
      "0.0\n"
     ]
    }
   ],
   "source": [
    "#ramen and pho\n",
    "print(cm[81][75]) #ramen classified as pho\n",
    "print(cm[75][81]) #pho classified as ramen"
   ]
  },
  {
   "cell_type": "code",
   "execution_count": 56,
   "metadata": {},
   "outputs": [
    {
     "name": "stdout",
     "output_type": "stream",
     "text": [
      "ramen  was the most mispredicted with pho . 23.0 % of the time it was predicted as  pho  when it was actually  ramen\n"
     ]
    }
   ],
   "source": [
    "#ramen and pho\n",
    "print(decoder[81],' was the most mispredicted with',decoder[75],'.', cm[81][75]*100, '% of the time it was predicted as ',\n",
    "      decoder[75], ' when it was actually ', decoder[81])"
   ]
  },
  {
   "cell_type": "code",
   "execution_count": 107,
   "metadata": {},
   "outputs": [
    {
     "name": "stdout",
     "output_type": "stream",
     "text": [
      "0.17\n",
      "0.08\n"
     ]
    }
   ],
   "source": [
    "#steak and filet mignon\n",
    "print(cm[37][93]) #filet mignon classified as steak\n",
    "print(cm[93][37]) #steak classified as filet mignon"
   ]
  },
  {
   "cell_type": "code",
   "execution_count": 64,
   "metadata": {},
   "outputs": [
    {
     "name": "stdout",
     "output_type": "stream",
     "text": [
      "filet_mignon  was the often mispredicted with steak . 17.0 % of the time it was predicted as  steak  when it was actually  filet_mignon\n"
     ]
    }
   ],
   "source": [
    "#steak and filet mignon\n",
    "print(decoder[37],' was the often mispredicted with',decoder[93],'.', cm[37][93]*100, '% of the time it was predicted as ',\n",
    "      decoder[93], ' when it was actually ', decoder[37])"
   ]
  },
  {
   "cell_type": "code",
   "execution_count": 105,
   "metadata": {},
   "outputs": [
    {
     "name": "stdout",
     "output_type": "stream",
     "text": [
      "0.13\n",
      "0.12\n"
     ]
    }
   ],
   "source": [
    "#steak and prime rib\n",
    "print(cm[93][79]) #steak classified as prime rib\n",
    "print(cm[79][93]) #prime rib classified as steak\n"
   ]
  },
  {
   "cell_type": "code",
   "execution_count": 106,
   "metadata": {},
   "outputs": [
    {
     "name": "stdout",
     "output_type": "stream",
     "text": [
      "steak  was the often mispredicted with prime_rib . 13.0 % of the time it was predicted as  prime_rib  when it was actually  steak\n",
      "The opposite is true for this one too. 12.0 % of the time it was predicted as  steak  when it was actually prime_rib\n"
     ]
    }
   ],
   "source": [
    "#steak and prime rib\n",
    "print(decoder[93],' was the often mispredicted with',decoder[79],'.', cm[93][79]*100, '% of the time it was predicted as ',\n",
    "      decoder[79], ' when it was actually ', decoder[93])\n",
    "print('The opposite is true for this one too.', cm[79][93]*100, '% of the time it was predicted as ',decoder[93], \n",
    "      ' when it was actually', decoder[79])"
   ]
  },
  {
   "cell_type": "code",
   "execution_count": 104,
   "metadata": {},
   "outputs": [
    {
     "name": "stdout",
     "output_type": "stream",
     "text": [
      "0.13\n",
      "0.0\n"
     ]
    }
   ],
   "source": [
    "#fried rice and phad thai\n",
    "print(cm[70][44]) #phad thai classified fried rice \n",
    "print(cm[44][70]) #fried rice classified as phad thai"
   ]
  },
  {
   "cell_type": "code",
   "execution_count": 72,
   "metadata": {},
   "outputs": [
    {
     "name": "stdout",
     "output_type": "stream",
     "text": [
      "pad_thai  was the often mispredicted with fried_rice . 13.0 % of the time it was predicted as  fried_rice  when it was actually  pad_thai\n"
     ]
    }
   ],
   "source": [
    "#fried rice and phad thai\n",
    "print(decoder[70],' was the often mispredicted with',decoder[44],'.', cm[70][44]*100, '% of the time it was predicted as ',\n",
    "      decoder[44], ' when it was actually ', decoder[70])"
   ]
  },
  {
   "cell_type": "code",
   "execution_count": 102,
   "metadata": {},
   "outputs": [
    {
     "name": "stdout",
     "output_type": "stream",
     "text": [
      "0.13\n",
      "0.03\n"
     ]
    }
   ],
   "source": [
    "#chocolate cake and chocolate mousse\n",
    "print(cm[21][22]) #chocolate cake classified as chocolate mousse\n",
    "print(cm[22][21]) #chocolate mousse classified as chocolate cake"
   ]
  },
  {
   "cell_type": "code",
   "execution_count": 85,
   "metadata": {},
   "outputs": [
    {
     "name": "stdout",
     "output_type": "stream",
     "text": [
      "chocolate_cake  was the often mispredicted with chocolate_mousse . 13.0 % of the time it was predicted as  chocolate_mousse  when it was actually  chocolate_cake\n"
     ]
    }
   ],
   "source": [
    "#choclate ckae and chocolate mousse\n",
    "print(decoder[21],' was the often mispredicted with',decoder[22],'.', cm[21][22]*100, '% of the time it was predicted as ',\n",
    "      decoder[22], ' when it was actually ', decoder[21])"
   ]
  },
  {
   "cell_type": "code",
   "execution_count": 101,
   "metadata": {},
   "outputs": [
    {
     "name": "stdout",
     "output_type": "stream",
     "text": [
      "0.12\n",
      "0.0\n"
     ]
    }
   ],
   "source": [
    "#chocolate cake and red velvet cake\n",
    "print(cm[21][83]) #choclate cake classified as red velvet cake\n",
    "print(cm[83][21]) #red velvet cake classified as chocolate cake"
   ]
  },
  {
   "cell_type": "code",
   "execution_count": 86,
   "metadata": {},
   "outputs": [
    {
     "name": "stdout",
     "output_type": "stream",
     "text": [
      "chocolate_cake  was the often mispredicted with red_velvet_cake . 12.0 % of the time it was predicted as  red_velvet_cake  when it was actually  chocolate_cake\n"
     ]
    }
   ],
   "source": [
    "#chocolate cake and red velvet cake\n",
    "print(decoder[21],' was the often mispredicted with',decoder[83],'.', cm[21][83]*100, '% of the time it was predicted as ',\n",
    "      decoder[83], ' when it was actually ', decoder[21])"
   ]
  },
  {
   "cell_type": "code",
   "execution_count": 110,
   "metadata": {},
   "outputs": [
    {
     "name": "stdout",
     "output_type": "stream",
     "text": [
      "0.08\n",
      "0.01\n"
     ]
    }
   ],
   "source": [
    "#chocolate cake and tiramisu\n",
    "print(cm[21][98]) #chocolate cake classified as tiramisu\n",
    "print(cm[98][21]) #tiramisu classified as chocolate cake"
   ]
  },
  {
   "cell_type": "code",
   "execution_count": 89,
   "metadata": {},
   "outputs": [
    {
     "name": "stdout",
     "output_type": "stream",
     "text": [
      "chocolate_cake  was the often mispredicted with tiramisu . 8.0 % of the time it was predicted as  tiramisu  when it was actually  chocolate_cake\n"
     ]
    }
   ],
   "source": [
    "#choclate cake and tiramisu\n",
    "print(decoder[21],' was the often mispredicted with',decoder[98],'.', cm[21][98]*100, '% of the time it was predicted as ',\n",
    "      decoder[98], ' when it was actually ', decoder[21])"
   ]
  }
 ],
 "metadata": {
  "kernelspec": {
   "display_name": "Python 3",
   "language": "python",
   "name": "python3"
  },
  "language_info": {
   "codemirror_mode": {
    "name": "ipython",
    "version": 3
   },
   "file_extension": ".py",
   "mimetype": "text/x-python",
   "name": "python",
   "nbconvert_exporter": "python",
   "pygments_lexer": "ipython3",
   "version": "3.7.3"
  }
 },
 "nbformat": 4,
 "nbformat_minor": 2
}
